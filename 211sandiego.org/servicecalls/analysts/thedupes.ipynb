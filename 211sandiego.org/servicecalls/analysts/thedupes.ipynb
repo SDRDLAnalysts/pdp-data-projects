{
 "metadata": {
  "name": "",
  "signature": "sha256:749ce5f554ada28721bdd0b08ffe1759e6359427fb7c1e7c3d5dd7c3fde0d30e"
 },
 "nbformat": 3,
 "nbformat_minor": 0,
 "worksheets": [
  {
   "cells": [
    {
     "cell_type": "markdown",
     "metadata": {},
     "source": [
      "#211 Data Exploration"
     ]
    },
    {
     "cell_type": "markdown",
     "metadata": {},
     "source": [
      "See the [data manifest documentation]( http://devtest.sandiegodata.org.s3.amazonaws.com/manifests/fc22cee6-acfa-4236-a6cb-e0d887eba178/documentation.html) for details about the dataset. The [data schema](http://devtest.sandiegodata.org.s3.amazonaws.com/manifests/fc22cee6-acfa-4236-a6cb-e0d887eba178/p02J001002.html) is most valueable. "
     ]
    },
    {
     "cell_type": "code",
     "collapsed": false,
     "input": [
      "%matplotlib inline\n",
      "import numpy as np\n",
      "import pandas as pd\n",
      "import matplotlib.pyplot as plt\n",
      "pd.options.display.max_columns = 50\n",
      "# You'll probably need to run 'sudo pip install sdipylib' for this to work\n",
      "from  sdipylib.url import cache_url\n",
      "from IPython.core.display import HTML"
     ],
     "language": "python",
     "metadata": {},
     "outputs": [],
     "prompt_number": 1
    },
    {
     "cell_type": "code",
     "collapsed": false,
     "input": [
      "# cache_url will download the URL and store it in a local file, but when it is called a second time, it uses the\n",
      "# downloaded file. You'll have to delete the file externally to get an update. \n",
      "fn = cache_url('http://devtest.sandiegodata.org.s3.amazonaws.com/manifests/fc22cee6-acfa-4236-a6cb-e0d887eba178/211_service_calls.csv')\n",
      "# Read_csv guesses that some columns are numbers, and complains when a string appears, so we have to be \n",
      "# explicit about the datatyps of these columns. \n",
      "df = pd.read_csv(fn,dtype =  {16: str, 26: str, 27: str, 29: str})"
     ],
     "language": "python",
     "metadata": {},
     "outputs": [],
     "prompt_number": 2
    },
    {
     "cell_type": "markdown",
     "metadata": {},
     "source": [
      "###Quick glimpse of the dataset"
     ]
    },
    {
     "cell_type": "code",
     "collapsed": false,
     "input": [
      "df.head()"
     ],
     "language": "python",
     "metadata": {},
     "outputs": [
      {
       "html": [
        "<div style=\"max-height:1000px;max-width:1500px;overflow:auto;\">\n",
        "<table border=\"1\" class=\"dataframe\">\n",
        "  <thead>\n",
        "    <tr style=\"text-align: right;\">\n",
        "      <th></th>\n",
        "      <th>id</th>\n",
        "      <th>call_stat</th>\n",
        "      <th>restrictions</th>\n",
        "      <th>create_time</th>\n",
        "      <th>client_id</th>\n",
        "      <th>queue</th>\n",
        "      <th>call_type</th>\n",
        "      <th>relationship</th>\n",
        "      <th>called_before</th>\n",
        "      <th>how_hear</th>\n",
        "      <th>have_ins</th>\n",
        "      <th>ins_type</th>\n",
        "      <th>hshld_disabled</th>\n",
        "      <th>gender</th>\n",
        "      <th>age_goups</th>\n",
        "      <th>caller_age</th>\n",
        "      <th>preg_lt6</th>\n",
        "      <th>child_lt6</th>\n",
        "      <th>ethnicity</th>\n",
        "      <th>race</th>\n",
        "      <th>language</th>\n",
        "      <th>hshld_size</th>\n",
        "      <th>hshld_size_code</th>\n",
        "      <th>income_source</th>\n",
        "      <th>hshld_income</th>\n",
        "      <th>hshld_pct_fpl</th>\n",
        "      <th>hshld_pct_fpl_code</th>\n",
        "      <th>income_declined</th>\n",
        "      <th>zip</th>\n",
        "      <th>zip_code</th>\n",
        "      <th>need_tax_code</th>\n",
        "      <th>need_tax_cat</th>\n",
        "      <th>need_unmet</th>\n",
        "      <th>need_reason_unmet</th>\n",
        "      <th>ref_agency</th>\n",
        "      <th>ref_name</th>\n",
        "    </tr>\n",
        "  </thead>\n",
        "  <tbody>\n",
        "    <tr>\n",
        "      <th>0</th>\n",
        "      <td> 1</td>\n",
        "      <td> NaN</td>\n",
        "      <td> 211 San Diego</td>\n",
        "      <td>  07/01/2013 00:03:30.57451 PDT</td>\n",
        "      <td> 13110365</td>\n",
        "      <td> General</td>\n",
        "      <td> Assessment and Referral</td>\n",
        "      <td> Self</td>\n",
        "      <td> No</td>\n",
        "      <td>         Other</td>\n",
        "      <td> Yes</td>\n",
        "      <td> Medi-Cal</td>\n",
        "      <td> No</td>\n",
        "      <td> Female</td>\n",
        "      <td> NaN</td>\n",
        "      <td>NaN</td>\n",
        "      <td> NaN</td>\n",
        "      <td> 0</td>\n",
        "      <td> NaN</td>\n",
        "      <td> NaN</td>\n",
        "      <td> English</td>\n",
        "      <td>  3</td>\n",
        "      <td>       NaN</td>\n",
        "      <td> NaN</td>\n",
        "      <td>NaN</td>\n",
        "      <td>NaN</td>\n",
        "      <td> NaN</td>\n",
        "      <td> NaN</td>\n",
        "      <td> 92277</td>\n",
        "      <td> NaN</td>\n",
        "      <td>          BH-3900</td>\n",
        "      <td>      Housing Search and Information</td>\n",
        "      <td> f</td>\n",
        "      <td>                                   NaN</td>\n",
        "      <td> San Diego Housing Commission</td>\n",
        "      <td> City of San Diego Affordable Housing Informati...</td>\n",
        "    </tr>\n",
        "    <tr>\n",
        "      <th>1</th>\n",
        "      <td> 2</td>\n",
        "      <td> NaN</td>\n",
        "      <td> 211 San Diego</td>\n",
        "      <td>  07/01/2013 00:03:30.57451 PDT</td>\n",
        "      <td> 13110365</td>\n",
        "      <td> General</td>\n",
        "      <td> Assessment and Referral</td>\n",
        "      <td> Self</td>\n",
        "      <td> No</td>\n",
        "      <td>         Other</td>\n",
        "      <td> Yes</td>\n",
        "      <td> Medi-Cal</td>\n",
        "      <td> No</td>\n",
        "      <td> Female</td>\n",
        "      <td> NaN</td>\n",
        "      <td>NaN</td>\n",
        "      <td> NaN</td>\n",
        "      <td> 0</td>\n",
        "      <td> NaN</td>\n",
        "      <td> NaN</td>\n",
        "      <td> English</td>\n",
        "      <td>  3</td>\n",
        "      <td>       NaN</td>\n",
        "      <td> NaN</td>\n",
        "      <td>NaN</td>\n",
        "      <td>NaN</td>\n",
        "      <td> NaN</td>\n",
        "      <td> NaN</td>\n",
        "      <td> 92277</td>\n",
        "      <td> NaN</td>\n",
        "      <td>          BH-8600</td>\n",
        "      <td>        Transitional Housing/Shelter</td>\n",
        "      <td> f</td>\n",
        "      <td>                                   NaN</td>\n",
        "      <td> San Diego Housing Commission</td>\n",
        "      <td> City of San Diego Affordable Housing Informati...</td>\n",
        "    </tr>\n",
        "    <tr>\n",
        "      <th>2</th>\n",
        "      <td> 3</td>\n",
        "      <td> NaN</td>\n",
        "      <td> 211 San Diego</td>\n",
        "      <td>  07/01/2013 00:03:30.57451 PDT</td>\n",
        "      <td> 13110365</td>\n",
        "      <td> General</td>\n",
        "      <td> Assessment and Referral</td>\n",
        "      <td> Self</td>\n",
        "      <td> No</td>\n",
        "      <td>         Other</td>\n",
        "      <td> Yes</td>\n",
        "      <td> Medi-Cal</td>\n",
        "      <td> No</td>\n",
        "      <td> Female</td>\n",
        "      <td> NaN</td>\n",
        "      <td>NaN</td>\n",
        "      <td> NaN</td>\n",
        "      <td> 0</td>\n",
        "      <td> NaN</td>\n",
        "      <td> NaN</td>\n",
        "      <td> English</td>\n",
        "      <td>  3</td>\n",
        "      <td>       NaN</td>\n",
        "      <td> NaN</td>\n",
        "      <td>NaN</td>\n",
        "      <td>NaN</td>\n",
        "      <td> NaN</td>\n",
        "      <td> NaN</td>\n",
        "      <td> 92277</td>\n",
        "      <td> NaN</td>\n",
        "      <td>          BH-3900</td>\n",
        "      <td>      Housing Search and Information</td>\n",
        "      <td> f</td>\n",
        "      <td>                                   NaN</td>\n",
        "      <td>     YWCA of San Diego County</td>\n",
        "      <td>     Cortez Hill Shelter, YWCA of San Diego County</td>\n",
        "    </tr>\n",
        "    <tr>\n",
        "      <th>3</th>\n",
        "      <td> 4</td>\n",
        "      <td> NaN</td>\n",
        "      <td> 211 San Diego</td>\n",
        "      <td>  07/01/2013 00:03:30.57451 PDT</td>\n",
        "      <td> 13110365</td>\n",
        "      <td> General</td>\n",
        "      <td> Assessment and Referral</td>\n",
        "      <td> Self</td>\n",
        "      <td> No</td>\n",
        "      <td>         Other</td>\n",
        "      <td> Yes</td>\n",
        "      <td> Medi-Cal</td>\n",
        "      <td> No</td>\n",
        "      <td> Female</td>\n",
        "      <td> NaN</td>\n",
        "      <td>NaN</td>\n",
        "      <td> NaN</td>\n",
        "      <td> 0</td>\n",
        "      <td> NaN</td>\n",
        "      <td> NaN</td>\n",
        "      <td> English</td>\n",
        "      <td>  3</td>\n",
        "      <td>       NaN</td>\n",
        "      <td> NaN</td>\n",
        "      <td>NaN</td>\n",
        "      <td>NaN</td>\n",
        "      <td> NaN</td>\n",
        "      <td> NaN</td>\n",
        "      <td> 92277</td>\n",
        "      <td> NaN</td>\n",
        "      <td>          BH-8600</td>\n",
        "      <td>        Transitional Housing/Shelter</td>\n",
        "      <td> f</td>\n",
        "      <td>                                   NaN</td>\n",
        "      <td>     YWCA of San Diego County</td>\n",
        "      <td>     Cortez Hill Shelter, YWCA of San Diego County</td>\n",
        "    </tr>\n",
        "    <tr>\n",
        "      <th>4</th>\n",
        "      <td> 5</td>\n",
        "      <td> NaN</td>\n",
        "      <td> 211 San Diego</td>\n",
        "      <td> 07/01/2013 00:06:18.147102 PDT</td>\n",
        "      <td> 13110367</td>\n",
        "      <td> General</td>\n",
        "      <td> Assessment and Referral</td>\n",
        "      <td> Self</td>\n",
        "      <td> No</td>\n",
        "      <td> Friend/Family</td>\n",
        "      <td> Yes</td>\n",
        "      <td> Medi-Cal</td>\n",
        "      <td> No</td>\n",
        "      <td> Female</td>\n",
        "      <td> NaN</td>\n",
        "      <td>NaN</td>\n",
        "      <td> NaN</td>\n",
        "      <td> 1</td>\n",
        "      <td> NaN</td>\n",
        "      <td> NaN</td>\n",
        "      <td> English</td>\n",
        "      <td>NaN</td>\n",
        "      <td> 7 or more</td>\n",
        "      <td> NaN</td>\n",
        "      <td>NaN</td>\n",
        "      <td>NaN</td>\n",
        "      <td> NaN</td>\n",
        "      <td> NaN</td>\n",
        "      <td> 91911</td>\n",
        "      <td> NaN</td>\n",
        "      <td> BT-4500.6500-500</td>\n",
        "      <td> Medical Appointments Transportation</td>\n",
        "      <td> t</td>\n",
        "      <td> No referral given/Service unavailable</td>\n",
        "      <td> Fish Service Volunteers, Inc</td>\n",
        "      <td> Rides for Medical Appointments, Fish Service V...</td>\n",
        "    </tr>\n",
        "  </tbody>\n",
        "</table>\n",
        "<p>5 rows \u00d7 36 columns</p>\n",
        "</div>"
       ],
       "metadata": {},
       "output_type": "pyout",
       "prompt_number": 356,
       "text": [
        "   id call_stat   restrictions                     create_time  client_id  \\\n",
        "0   1       NaN  211 San Diego   07/01/2013 00:03:30.57451 PDT   13110365   \n",
        "1   2       NaN  211 San Diego   07/01/2013 00:03:30.57451 PDT   13110365   \n",
        "2   3       NaN  211 San Diego   07/01/2013 00:03:30.57451 PDT   13110365   \n",
        "3   4       NaN  211 San Diego   07/01/2013 00:03:30.57451 PDT   13110365   \n",
        "4   5       NaN  211 San Diego  07/01/2013 00:06:18.147102 PDT   13110367   \n",
        "\n",
        "     queue                call_type relationship called_before       how_hear  \\\n",
        "0  General  Assessment and Referral         Self            No          Other   \n",
        "1  General  Assessment and Referral         Self            No          Other   \n",
        "2  General  Assessment and Referral         Self            No          Other   \n",
        "3  General  Assessment and Referral         Self            No          Other   \n",
        "4  General  Assessment and Referral         Self            No  Friend/Family   \n",
        "\n",
        "  have_ins  ins_type hshld_disabled  gender age_goups  caller_age preg_lt6  \\\n",
        "0      Yes  Medi-Cal             No  Female       NaN         NaN      NaN   \n",
        "1      Yes  Medi-Cal             No  Female       NaN         NaN      NaN   \n",
        "2      Yes  Medi-Cal             No  Female       NaN         NaN      NaN   \n",
        "3      Yes  Medi-Cal             No  Female       NaN         NaN      NaN   \n",
        "4      Yes  Medi-Cal             No  Female       NaN         NaN      NaN   \n",
        "\n",
        "   child_lt6 ethnicity race language  hshld_size hshld_size_code  \\\n",
        "0          0       NaN  NaN  English           3             NaN   \n",
        "1          0       NaN  NaN  English           3             NaN   \n",
        "2          0       NaN  NaN  English           3             NaN   \n",
        "3          0       NaN  NaN  English           3             NaN   \n",
        "4          1       NaN  NaN  English         NaN       7 or more   \n",
        "\n",
        "  income_source  hshld_income  hshld_pct_fpl hshld_pct_fpl_code  \\\n",
        "0           NaN           NaN            NaN                NaN   \n",
        "1           NaN           NaN            NaN                NaN   \n",
        "2           NaN           NaN            NaN                NaN   \n",
        "3           NaN           NaN            NaN                NaN   \n",
        "4           NaN           NaN            NaN                NaN   \n",
        "\n",
        "  income_declined    zip zip_code     need_tax_code  \\\n",
        "0             NaN  92277      NaN           BH-3900   \n",
        "1             NaN  92277      NaN           BH-8600   \n",
        "2             NaN  92277      NaN           BH-3900   \n",
        "3             NaN  92277      NaN           BH-8600   \n",
        "4             NaN  91911      NaN  BT-4500.6500-500   \n",
        "\n",
        "                          need_tax_cat need_unmet  \\\n",
        "0       Housing Search and Information          f   \n",
        "1         Transitional Housing/Shelter          f   \n",
        "2       Housing Search and Information          f   \n",
        "3         Transitional Housing/Shelter          f   \n",
        "4  Medical Appointments Transportation          t   \n",
        "\n",
        "                       need_reason_unmet                    ref_agency  \\\n",
        "0                                    NaN  San Diego Housing Commission   \n",
        "1                                    NaN  San Diego Housing Commission   \n",
        "2                                    NaN      YWCA of San Diego County   \n",
        "3                                    NaN      YWCA of San Diego County   \n",
        "4  No referral given/Service unavailable  Fish Service Volunteers, Inc   \n",
        "\n",
        "                                            ref_name  \n",
        "0  City of San Diego Affordable Housing Informati...  \n",
        "1  City of San Diego Affordable Housing Informati...  \n",
        "2      Cortez Hill Shelter, YWCA of San Diego County  \n",
        "3      Cortez Hill Shelter, YWCA of San Diego County  \n",
        "4  Rides for Medical Appointments, Fish Service V...  \n",
        "\n",
        "[5 rows x 36 columns]"
       ]
      }
     ],
     "prompt_number": 356
    },
    {
     "cell_type": "code",
     "collapsed": false,
     "input": [
      "print \"The dataset contains\", len(df), \"records (rows)\""
     ],
     "language": "python",
     "metadata": {},
     "outputs": [
      {
       "output_type": "stream",
       "stream": "stdout",
       "text": [
        "The dataset contains 894555 records (rows)\n"
       ]
      }
     ],
     "prompt_number": 4
    },
    {
     "cell_type": "markdown",
     "metadata": {},
     "source": [
      "##The Duplicate Situation (same client_id)"
     ]
    },
    {
     "cell_type": "markdown",
     "metadata": {},
     "source": [
      "A little under 900k records... but are they all unique calls? Let's find out.\n",
      "\n",
      "Below you can see the caller_id in the first column and the number of calls in the second."
     ]
    },
    {
     "cell_type": "code",
     "collapsed": false,
     "input": [
      "df.client_id.value_counts()"
     ],
     "language": "python",
     "metadata": {},
     "outputs": [
      {
       "metadata": {},
       "output_type": "pyout",
       "prompt_number": 359,
       "text": [
        "15321786    216\n",
        "16056720    192\n",
        "16036451    180\n",
        "17072765    180\n",
        "16648348    168\n",
        "15783286    150\n",
        "15685628    150\n",
        "16851054    150\n",
        "16110177    144\n",
        "15974764    144\n",
        "14433974    136\n",
        "17319012    135\n",
        "13614118    130\n",
        "16917545    128\n",
        "17037815    124\n",
        "...\n",
        "16430664    1\n",
        "16397912    1\n",
        "14296666    1\n",
        "14298715    1\n",
        "13340271    1\n",
        "16475762    1\n",
        "14478979    1\n",
        "13469358    1\n",
        "15548089    1\n",
        "15605469    1\n",
        "14677728    1\n",
        "14655213    1\n",
        "15695601    1\n",
        "15787778    1\n",
        "15532192    1\n",
        "Length: 215563, dtype: int64"
       ]
      }
     ],
     "prompt_number": 359
    },
    {
     "cell_type": "markdown",
     "metadata": {},
     "source": [
      "- Several instances of +100 calls from same id... could these originate at call centers / offices?\n",
      "- Notice that the length is 215k for unique client_ids (out of 900k records). \n",
      "    - This means only 25% of data set are unique caller_ids."
     ]
    },
    {
     "cell_type": "markdown",
     "metadata": {},
     "source": [
      "### Let's explore the top client_id and time of call."
     ]
    },
    {
     "cell_type": "code",
     "collapsed": false,
     "input": [
      "df[df.client_id==15321786].create_time.value_counts()"
     ],
     "language": "python",
     "metadata": {},
     "outputs": [
      {
       "metadata": {},
       "output_type": "pyout",
       "prompt_number": 360,
       "text": [
        "01/15/2014 13:49:22.662068 PST    216\n",
        "dtype: int64"
       ]
      }
     ],
     "prompt_number": 360
    },
    {
     "cell_type": "markdown",
     "metadata": {},
     "source": [
      "216 calls placed at the exact same time.\n",
      "\n",
      "### Are the 216 calls exactly the same record?\n",
      "\n",
      "For this client_id, T= All equal records in this category, F= Not All Equal"
     ]
    },
    {
     "cell_type": "code",
     "collapsed": false,
     "input": [
      "x=df[df.client_id==15321786].T.dropna()\n",
      "x.eq(x.iloc[:, 0], axis=0).all(1)"
     ],
     "language": "python",
     "metadata": {},
     "outputs": [
      {
       "metadata": {},
       "output_type": "pyout",
       "prompt_number": 361,
       "text": [
        "restrictions       True\n",
        "create_time        True\n",
        "client_id          True\n",
        "queue              True\n",
        "call_type          True\n",
        "relationship       True\n",
        "called_before      True\n",
        "have_ins           True\n",
        "ins_type           True\n",
        "hshld_disabled     True\n",
        "gender             True\n",
        "age_goups          True\n",
        "child_lt6          True\n",
        "ethnicity          True\n",
        "race               True\n",
        "language           True\n",
        "hshld_size         True\n",
        "income_source     False\n",
        "hshld_income       True\n",
        "hshld_pct_fpl      True\n",
        "zip                True\n",
        "need_tax_code     False\n",
        "need_tax_cat      False\n",
        "need_unmet         True\n",
        "ref_agency        False\n",
        "ref_name          False\n",
        "dtype: bool"
       ]
      }
     ],
     "prompt_number": 361
    },
    {
     "cell_type": "markdown",
     "metadata": {},
     "source": [
      "Same for all columns except (1) **income_source**, (2) **need_tax_code/cat**, and (3) **refering agency/name**.\n",
      "\n",
      "Let's see the differences."
     ]
    },
    {
     "cell_type": "code",
     "collapsed": false,
     "input": [
      "print \"There are\", len(df[df.client_id==15321786].income_source.unique()),\"unique types of income source\"\n",
      "print \"There are\", len(df[df.client_id==15321786].need_tax_code.unique()),\"unique types of need_tax_code\"\n",
      "print \"There are\", len(df[df.client_id==15321786].ref_name.unique()),\"unique types of ref_name\""
     ],
     "language": "python",
     "metadata": {},
     "outputs": [
      {
       "output_type": "stream",
       "stream": "stdout",
       "text": [
        "There are 18 unique types of income source\n",
        "There are 3 unique types of need_tax_code\n",
        "There are 4 unique types of ref_name\n"
       ]
      }
     ],
     "prompt_number": 362
    },
    {
     "cell_type": "markdown",
     "metadata": {},
     "source": [
      "###Alain's discovery\n",
      "\n",
      "This could be a database issue, since 4 x 3 x 18 = 216.\n",
      "\n",
      "Did the data entry person entered several choices for each of these three categories? \n",
      "\n",
      "Did this eventually show up in our data set as all the different combinations since it only allows one value per column?\n",
      "\n",
      "##Let's verify with another client_id."
     ]
    },
    {
     "cell_type": "code",
     "collapsed": false,
     "input": [
      "y=df[df.client_id==16036451].T.dropna()\n",
      "#For each column in subset, T = All row values are equal, F = Not all row values are equal.\n",
      "y.eq(y.iloc[:, 0], axis=0).all(1)"
     ],
     "language": "python",
     "metadata": {},
     "outputs": [
      {
       "metadata": {},
       "output_type": "pyout",
       "prompt_number": 363,
       "text": [
        "restrictions       True\n",
        "create_time        True\n",
        "client_id          True\n",
        "queue              True\n",
        "call_type          True\n",
        "relationship       True\n",
        "called_before      True\n",
        "how_hear           True\n",
        "have_ins           True\n",
        "ins_type          False\n",
        "hshld_disabled     True\n",
        "gender             True\n",
        "age_goups          True\n",
        "preg_lt6           True\n",
        "race               True\n",
        "language           True\n",
        "hshld_size         True\n",
        "income_source     False\n",
        "hshld_income       True\n",
        "hshld_pct_fpl      True\n",
        "zip                True\n",
        "need_tax_code     False\n",
        "need_tax_cat      False\n",
        "need_unmet         True\n",
        "ref_agency        False\n",
        "ref_name          False\n",
        "dtype: bool"
       ]
      }
     ],
     "prompt_number": 363
    },
    {
     "cell_type": "code",
     "collapsed": false,
     "input": [
      "print \"Client_id called\", len(df[df.client_id==16036451].create_time), \"times.\"\n",
      "print \"There are\", len(df[df.client_id==16036451].ins_type.unique()),\"unique types of ins_type\"\n",
      "print \"There are\", len(df[df.client_id==16036451].income_source.unique()),\"unique types of income_source\"\n",
      "print \"There are\", len(df[df.client_id==16036451].need_tax_code.unique()),\"unique types of need_tax_code\"\n",
      "print \"There are\", len(df[df.client_id==16036451].ref_agency.unique()),\"unique types of ref_agency\""
     ],
     "language": "python",
     "metadata": {},
     "outputs": [
      {
       "output_type": "stream",
       "stream": "stdout",
       "text": [
        "Client_id called 180 times.\n",
        "There are 2 unique types of ins_type\n",
        "There are 3 unique types of income_source\n",
        "There are 5 unique types of need_tax_code\n",
        "There are "
       ]
      },
      {
       "output_type": "stream",
       "stream": "stdout",
       "text": [
        "6 unique types of ref_agency\n"
       ]
      }
     ],
     "prompt_number": 364
    },
    {
     "cell_type": "markdown",
     "metadata": {},
     "source": [
      "6 x 5 x 3 x 2 = 180"
     ]
    },
    {
     "cell_type": "markdown",
     "metadata": {},
     "source": [
      "### Dropping Duplicated Records"
     ]
    },
    {
     "cell_type": "markdown",
     "metadata": {},
     "source": [
      "We could drop the duplicates, but it seems that those are way too many."
     ]
    },
    {
     "cell_type": "code",
     "collapsed": false,
     "input": [
      "df=df.drop_duplicates(cols=('client_id') , take_last=False, inplace=False)\n",
      "print \"The data set has now\",len(df), \"records now.\""
     ],
     "language": "python",
     "metadata": {},
     "outputs": [
      {
       "output_type": "stream",
       "stream": "stdout",
       "text": [
        "The data set has now 215563 records now.\n"
       ]
      }
     ],
     "prompt_number": 6
    }
   ],
   "metadata": {}
  }
 ]
}