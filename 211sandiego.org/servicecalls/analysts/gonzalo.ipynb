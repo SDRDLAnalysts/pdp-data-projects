{
 "metadata": {
  "name": "",
  "signature": "sha256:c3e9ab4b91f03f9c3da87931fa2bbbc83c5a4b1b9b756ffc68df6f48299e7e1f"
 },
 "nbformat": 3,
 "nbformat_minor": 0,
 "worksheets": [
  {
   "cells": [
    {
     "cell_type": "heading",
     "level": 1,
     "metadata": {},
     "source": [
      "211 Data Exploration"
     ]
    },
    {
     "cell_type": "markdown",
     "metadata": {},
     "source": [
      "See the [data manifest documentation]( http://devtest.sandiegodata.org.s3.amazonaws.com/manifests/fc22cee6-acfa-4236-a6cb-e0d887eba178/documentation.html) for details about the dataset. The [data schema](http://devtest.sandiegodata.org.s3.amazonaws.com/manifests/fc22cee6-acfa-4236-a6cb-e0d887eba178/p02J001002.html) is most valueable. "
     ]
    },
    {
     "cell_type": "code",
     "collapsed": false,
     "input": [
      "%matplotlib inline\n",
      "import numpy as np\n",
      "import pandas as pd\n",
      "import matplotlib.pyplot as plt\n",
      "pd.options.display.max_columns = 50\n",
      "# You'll probably need to run 'sudo pip install sdipylib' for this to work\n",
      "from  sdipylib.url import cache_url\n",
      "pd.__version__"
     ],
     "language": "python",
     "metadata": {},
     "outputs": [
      {
       "metadata": {},
       "output_type": "pyout",
       "prompt_number": 2,
       "text": [
        "'0.13.1'"
       ]
      }
     ],
     "prompt_number": 2
    },
    {
     "cell_type": "code",
     "collapsed": false,
     "input": [
      "# cache_url will download the URL and store it in a local file, but when it is called a second time, it uses the\n",
      "# downloaded file. You'll have to delete the file externally to get an update. \n",
      "fn = cache_url('http://devtest.sandiegodata.org.s3.amazonaws.com/manifests/fc22cee6-acfa-4236-a6cb-e0d887eba178/211_service_calls.csv')\n",
      "print fn\n",
      "# Read_csv guesses that some columns are numbers, and complains when a string appears, so we have to be \n",
      "# explicit about the datatyps of these columns. \n",
      "df = pd.read_csv(fn,dtype =  {16: str, 26: str, 27: str, 29: str})"
     ],
     "language": "python",
     "metadata": {},
     "outputs": [
      {
       "output_type": "stream",
       "stream": "stdout",
       "text": [
        "/Users/Gonzalo/IPython Notebooks/pdp-data-projects/211sandiego.org/servicecalls/analysts/211_service_calls.csv\n"
       ]
      }
     ],
     "prompt_number": 5
    },
    {
     "cell_type": "code",
     "collapsed": false,
     "input": [
      "df.head(1)"
     ],
     "language": "python",
     "metadata": {},
     "outputs": [
      {
       "html": [
        "<div style=\"max-height:1000px;max-width:1500px;overflow:auto;\">\n",
        "<table border=\"1\" class=\"dataframe\">\n",
        "  <thead>\n",
        "    <tr style=\"text-align: right;\">\n",
        "      <th></th>\n",
        "      <th>id</th>\n",
        "      <th>call_stat</th>\n",
        "      <th>restrictions</th>\n",
        "      <th>create_time</th>\n",
        "      <th>client_id</th>\n",
        "      <th>queue</th>\n",
        "      <th>call_type</th>\n",
        "      <th>relationship</th>\n",
        "      <th>called_before</th>\n",
        "      <th>how_hear</th>\n",
        "      <th>have_ins</th>\n",
        "      <th>ins_type</th>\n",
        "      <th>hshld_disabled</th>\n",
        "      <th>gender</th>\n",
        "      <th>age_goups</th>\n",
        "      <th>caller_age</th>\n",
        "      <th>preg_lt6</th>\n",
        "      <th>child_lt6</th>\n",
        "      <th>ethnicity</th>\n",
        "      <th>race</th>\n",
        "      <th>language</th>\n",
        "      <th>hshld_size</th>\n",
        "      <th>hshld_size_code</th>\n",
        "      <th>income_source</th>\n",
        "      <th>hshld_income</th>\n",
        "      <th>hshld_pct_fpl</th>\n",
        "      <th>hshld_pct_fpl_code</th>\n",
        "      <th>income_declined</th>\n",
        "      <th>zip</th>\n",
        "      <th>zip_code</th>\n",
        "      <th>need_tax_code</th>\n",
        "      <th>need_tax_cat</th>\n",
        "      <th>need_unmet</th>\n",
        "      <th>need_reason_unmet</th>\n",
        "      <th>ref_agency</th>\n",
        "      <th>ref_name</th>\n",
        "    </tr>\n",
        "  </thead>\n",
        "  <tbody>\n",
        "    <tr>\n",
        "      <th>0</th>\n",
        "      <td> 1</td>\n",
        "      <td> NaN</td>\n",
        "      <td> 211 San Diego</td>\n",
        "      <td> 07/01/2013 00:03:30.57451 PDT</td>\n",
        "      <td> 13110365</td>\n",
        "      <td> General</td>\n",
        "      <td> Assessment and Referral</td>\n",
        "      <td> Self</td>\n",
        "      <td> No</td>\n",
        "      <td> Other</td>\n",
        "      <td> Yes</td>\n",
        "      <td> Medi-Cal</td>\n",
        "      <td> No</td>\n",
        "      <td> Female</td>\n",
        "      <td> NaN</td>\n",
        "      <td>NaN</td>\n",
        "      <td> NaN</td>\n",
        "      <td> 0</td>\n",
        "      <td> NaN</td>\n",
        "      <td> NaN</td>\n",
        "      <td> English</td>\n",
        "      <td> 3</td>\n",
        "      <td> NaN</td>\n",
        "      <td> NaN</td>\n",
        "      <td>NaN</td>\n",
        "      <td>NaN</td>\n",
        "      <td> NaN</td>\n",
        "      <td> NaN</td>\n",
        "      <td> 92277</td>\n",
        "      <td> NaN</td>\n",
        "      <td> BH-3900</td>\n",
        "      <td> Housing Search and Information</td>\n",
        "      <td> f</td>\n",
        "      <td> NaN</td>\n",
        "      <td> San Diego Housing Commission</td>\n",
        "      <td> City of San Diego Affordable Housing Informati...</td>\n",
        "    </tr>\n",
        "  </tbody>\n",
        "</table>\n",
        "<p>1 rows \u00d7 36 columns</p>\n",
        "</div>"
       ],
       "metadata": {},
       "output_type": "pyout",
       "prompt_number": 6,
       "text": [
        "   id call_stat   restrictions                    create_time  client_id  \\\n",
        "0   1       NaN  211 San Diego  07/01/2013 00:03:30.57451 PDT   13110365   \n",
        "\n",
        "     queue                call_type relationship called_before how_hear  \\\n",
        "0  General  Assessment and Referral         Self            No    Other   \n",
        "\n",
        "  have_ins  ins_type hshld_disabled  gender age_goups  caller_age preg_lt6  \\\n",
        "0      Yes  Medi-Cal             No  Female       NaN         NaN      NaN   \n",
        "\n",
        "   child_lt6 ethnicity race language  hshld_size hshld_size_code  \\\n",
        "0          0       NaN  NaN  English           3             NaN   \n",
        "\n",
        "  income_source  hshld_income  hshld_pct_fpl hshld_pct_fpl_code  \\\n",
        "0           NaN           NaN            NaN                NaN   \n",
        "\n",
        "  income_declined    zip zip_code need_tax_code  \\\n",
        "0             NaN  92277      NaN       BH-3900   \n",
        "\n",
        "                     need_tax_cat need_unmet need_reason_unmet  \\\n",
        "0  Housing Search and Information          f               NaN   \n",
        "\n",
        "                     ref_agency  \\\n",
        "0  San Diego Housing Commission   \n",
        "\n",
        "                                            ref_name  \n",
        "0  City of San Diego Affordable Housing Informati...  \n",
        "\n",
        "[1 rows x 36 columns]"
       ]
      }
     ],
     "prompt_number": 6
    },
    {
     "cell_type": "code",
     "collapsed": false,
     "input": [
      "df.columns"
     ],
     "language": "python",
     "metadata": {},
     "outputs": [
      {
       "metadata": {},
       "output_type": "pyout",
       "prompt_number": 90,
       "text": [
        "Index([u'id', u'call_stat', u'restrictions', u'create_time', u'client_id', u'queue', u'call_type', u'relationship', u'called_before', u'how_hear', u'have_ins', u'ins_type', u'hshld_disabled', u'gender', u'age_goups', u'caller_age', u'preg_lt6', u'child_lt6', u'ethnicity', u'race', u'language', u'hshld_size', u'hshld_size_code', u'income_source', u'hshld_income', u'hshld_pct_fpl', u'hshld_pct_fpl_code', u'income_declined', u'zip', u'zip_code', u'need_tax_code', u'need_tax_cat', u'need_unmet', u'need_reason_unmet', u'ref_agency', u'ref_name'], dtype='object')"
       ]
      }
     ],
     "prompt_number": 90
    },
    {
     "cell_type": "heading",
     "level": 1,
     "metadata": {},
     "source": [
      "Presenting Needs: Taxonomy Category"
     ]
    },
    {
     "cell_type": "code",
     "collapsed": false,
     "input": [
      "df.need_tax_cat.value_counts().head(30)"
     ],
     "language": "python",
     "metadata": {},
     "outputs": [
      {
       "metadata": {},
       "output_type": "pyout",
       "prompt_number": 7,
       "text": [
        "Electric Service Payment Assistance                         48557\n",
        "Food Stamps/SNAP Applications                               43631\n",
        "Ongoing Emergency Food Assistance                           42134\n",
        "Specialized Information and Referral                        32385\n",
        "Homeless Shelter                                            24569\n",
        "Housing Search and Information                              22813\n",
        "Transitional Housing/Shelter                                21295\n",
        "Medicaid Applications                                       19674\n",
        "Health Insurance Marketplaces                               19442\n",
        "Rent Payment Assistance                                     13855\n",
        "Occasional Emergency Food Assistance                        11088\n",
        "Benefits Screening                                           9602\n",
        "Community Clinics                                            9505\n",
        "Transitional Case/Care Management                            8432\n",
        "Commodity Supplemental Food Program                          8262\n",
        "Gas Service Payment Assistance                               7681\n",
        "Low Income/Subsidized Rental Housing                         7622\n",
        "Bulk Mailing Services                                        7355\n",
        "Discounted Utility Services                                  7124\n",
        "Weatherization Programs                                      6684\n",
        "Case/Care Management                                         6043\n",
        "State Health Insurance Marketplace Call Centers/Websites     5972\n",
        "VITA Program Sites                                           5859\n",
        "Homeless Motel Vouchers                                      5689\n",
        "Legal Counseling                                             5483\n",
        "Subsidized Housing Administrative Organizations              5165\n",
        "Directory Assistance                                         4989\n",
        "Low Cost Home Rental Listings                                4912\n",
        "Outreach Programs                                            4868\n",
        "Section 8 Housing Choice Vouchers                            4823\n",
        "dtype: int64"
       ]
      }
     ],
     "prompt_number": 7
    },
    {
     "cell_type": "heading",
     "level": 1,
     "metadata": {},
     "source": [
      "Zipcode"
     ]
    },
    {
     "cell_type": "code",
     "collapsed": false,
     "input": [
      "df.zip.value_counts().head(30)"
     ],
     "language": "python",
     "metadata": {},
     "outputs": [
      {
       "metadata": {},
       "output_type": "pyout",
       "prompt_number": 8,
       "text": [
        "92105    40641\n",
        "0        36925\n",
        "91911    35978\n",
        "92101    34204\n",
        "92020    32928\n",
        "91910    32396\n",
        "92114    31831\n",
        "92113    31675\n",
        "92021    28977\n",
        "91950    26608\n",
        "91977    25981\n",
        "92115    25102\n",
        "92154    23363\n",
        "92104    21317\n",
        "92102    19715\n",
        "92025    17362\n",
        "92054    14344\n",
        "92173    14293\n",
        "92040    13763\n",
        "91945    13031\n",
        "92071    12916\n",
        "92111    12746\n",
        "92117    12453\n",
        "92084    12044\n",
        "91942    12037\n",
        "91932    11677\n",
        "92027    11416\n",
        "92056    11170\n",
        "92083    11015\n",
        "92116    10928\n",
        "dtype: int64"
       ]
      }
     ],
     "prompt_number": 8
    },
    {
     "cell_type": "code",
     "collapsed": false,
     "input": [
      "df.age_goups.value_counts()"
     ],
     "language": "python",
     "metadata": {},
     "outputs": [
      {
       "metadata": {},
       "output_type": "pyout",
       "prompt_number": 9,
       "text": [
        "50 to 54 years         80371\n",
        "30 to 34 years         75876\n",
        "25 to 29 years         72173\n",
        "40 to 44 years         70004\n",
        "55 to 59 years         68349\n",
        "35 to 39 years         66037\n",
        "45 to 49 years         65713\n",
        "20 to 24 years         58867\n",
        "60 to 64 years         55020\n",
        "65 to 69 years         33443\n",
        "70 to 74 years         21563\n",
        "Declined to State      17081\n",
        "15 to 19 years         15862\n",
        "75 to 79 years         13326\n",
        "80 to 84 years          9477\n",
        "85 to 89 years          4677\n",
        "90 to 94 years          2523\n",
        "10 to 14 years          1982\n",
        "5 to 9 years            1072\n",
        "Under 5 years           1032\n",
        "95 to 99 years           443\n",
        "100 years and older       86\n",
        "dtype: int64"
       ]
      }
     ],
     "prompt_number": 9
    },
    {
     "cell_type": "code",
     "collapsed": false,
     "input": [
      "ax=df.caller_age.hist(bins=20,range=(1,100)) \n",
      "ax.set_ylabel('Frequency')\n",
      "ax.set_xlabel('Age')"
     ],
     "language": "python",
     "metadata": {},
     "outputs": [
      {
       "metadata": {},
       "output_type": "pyout",
       "prompt_number": 89,
       "text": [
        "<matplotlib.text.Text at 0x10d95bc10>"
       ]
      },
      {
       "metadata": {},
       "output_type": "display_data",
       "png": "[encoded data removed]",
       "text": [
        "<matplotlib.figure.Figure at 0x10d8f4c90>"
       ]
      }
     ],
     "prompt_number": 89
    },
    {
     "cell_type": "code",
     "collapsed": false,
     "input": [
      "df[df.create_time == df.create_time.value_counts().index[0]].ref_agency.unique()"
     ],
     "language": "python",
     "metadata": {},
     "outputs": [
      {
       "metadata": {},
       "output_type": "pyout",
       "prompt_number": 37,
       "text": [
        "array(['Housing and Community Development, County of San Diego',\n",
        "       'United States Department of Housing and Urban Development ',\n",
        "       'Townspeople', 'Volunteers of America Southwest'], dtype=object)"
       ]
      }
     ],
     "prompt_number": 37
    },
    {
     "cell_type": "code",
     "collapsed": false,
     "input": [
      "df[(df.hshld_pct_fpl < 1000000) & (df.hshld_pct_fpl > 0) ].hshld_pct_fpl.describe()"
     ],
     "language": "python",
     "metadata": {},
     "outputs": [
      {
       "metadata": {},
       "output_type": "pyout",
       "prompt_number": 3,
       "text": [
        "count    457832.000000\n",
        "mean        140.876510\n",
        "std        1201.832977\n",
        "min           0.010000\n",
        "25%          45.000000\n",
        "50%          83.000000\n",
        "75%         112.000000\n",
        "max      216000.000000\n",
        "Name: hshld_pct_fpl, dtype: float64"
       ]
      }
     ],
     "prompt_number": 3
    },
    {
     "cell_type": "code",
     "collapsed": false,
     "input": [
      "df[(df.hshld_income < 100000) & (df.hshld_income > 0) ].hshld_income.hist()"
     ],
     "language": "python",
     "metadata": {},
     "outputs": [
      {
       "metadata": {},
       "output_type": "pyout",
       "prompt_number": 10,
       "text": [
        "<matplotlib.axes.AxesSubplot at 0x1100fba10>"
       ]
      },
      {
       "metadata": {},
       "output_type": "display_data",
       "png": "[encoded data removed]",
       "text": [
        "<matplotlib.figure.Figure at 0x1100cd7d0>"
       ]
      }
     ],
     "prompt_number": 10
    },
    {
     "cell_type": "code",
     "collapsed": false,
     "input": [
      "df.race.unique()"
     ],
     "language": "python",
     "metadata": {},
     "outputs": [
      {
       "metadata": {},
       "output_type": "pyout",
       "prompt_number": 11,
       "text": [
        "array([nan, African American, Hispanic/Latino - Mexican American,\n",
        "       Hispanic/Latino - Spanish, White - Latino, White - Caucasian,\n",
        "       Hispanic/Latino - Argentinian, Hispanic/Latino - Chicano,\n",
        "       Hispanic/Latino - Mexican, Declined to State, Asian - Filipino,\n",
        "       Hispanic/Latino - Puerto Rican, African - Somali, Native Hawaiian,\n",
        "       American Indian, Pacific Islander,\n",
        "       White - Eastern European/Ukrainian,\n",
        "       White - Eastern European/Russian, Hispanic/Latino - Nicaraguan,\n",
        "       Asian - Chinese, Other, White - Middle Eastern/Arab,\n",
        "       African - Sudanese, Hispanic/Latino - Cuban,\n",
        "       White - Middle Eastern/Iraqi, White - Middle Eastern/Indo-European,\n",
        "       White - Armenian, Asian - Vietnamese, Hispanic/Latino - Salvadoran,\n",
        "       White - Middle Eastern/Turkic, African - Ethiopian,\n",
        "       Asian - Bangladesh, African - Burundi, African - Eritrean,\n",
        "       Asian - Indian, Asian - Malaysian, Asian - Laotian,\n",
        "       Hispanic/Latino - Colombian, Asian - Pakistani, African - Kenyan,\n",
        "       Asian - Japanese, White - Middle Eastern/Israelite, Alaska Native,\n",
        "       Asian - Indonesian, African - Congolese,\n",
        "       White - Middle Eastern/Syriac, Asian - Cambodian, Asian - Korean,\n",
        "       Hispanic/Latino - Dominican, Biracial/multi-ethnic,\n",
        "       Asian - Southeast Asia, Asian - Thai, Asian - Karen, Asian - Hmong,\n",
        "       African - Haitian, Asian - Indian Subcontinent, Asian - Burmese,\n",
        "       Not appropriate for this call, Did not ask, Call dropped,\n",
        "       Call disconnected], dtype=object)"
       ]
      }
     ],
     "prompt_number": 11
    },
    {
     "cell_type": "code",
     "collapsed": false,
     "input": [
      "df.race.fillna('').str.contains('White')"
     ],
     "language": "python",
     "metadata": {},
     "outputs": [
      {
       "metadata": {},
       "output_type": "pyout",
       "prompt_number": 12,
       "text": [
        "0     False\n",
        "1     False\n",
        "2     False\n",
        "3     False\n",
        "4     False\n",
        "5     False\n",
        "6     False\n",
        "7     False\n",
        "8     False\n",
        "9     False\n",
        "10    False\n",
        "11    False\n",
        "12    False\n",
        "13    False\n",
        "14    False\n",
        "...\n",
        "894540    False\n",
        "894541    False\n",
        "894542    False\n",
        "894543    False\n",
        "894544    False\n",
        "894545    False\n",
        "894546    False\n",
        "894547    False\n",
        "894548    False\n",
        "894549    False\n",
        "894550    False\n",
        "894551    False\n",
        "894552    False\n",
        "894553    False\n",
        "894554    False\n",
        "Name: race, Length: 894555, dtype: bool"
       ]
      }
     ],
     "prompt_number": 12
    },
    {
     "cell_type": "code",
     "collapsed": false,
     "input": [
      "df.columns"
     ],
     "language": "python",
     "metadata": {},
     "outputs": [
      {
       "metadata": {},
       "output_type": "pyout",
       "prompt_number": 6,
       "text": [
        "Index([u'id', u'call_stat', u'restrictions', u'create_time', u'client_id', u'queue', u'call_type', u'relationship', u'called_before', u'how_hear', u'have_ins', u'ins_type', u'hshld_disabled', u'gender', u'age_goups', u'caller_age', u'preg_lt6', u'child_lt6', u'ethnicity', u'race', u'language', u'hshld_size', u'hshld_size_code', u'income_source', u'hshld_income', u'hshld_pct_fpl', u'hshld_pct_fpl_code', u'income_declined', u'zip', u'zip_code', u'need_tax_code', u'need_tax_cat', u'need_unmet', u'need_reason_unmet', u'ref_agency', u'ref_name'], dtype='object')"
       ]
      }
     ],
     "prompt_number": 6
    },
    {
     "cell_type": "code",
     "collapsed": false,
     "input": [
      "df.groupby(['create_time','client_id']).head()"
     ],
     "language": "python",
     "metadata": {},
     "outputs": []
    }
   ],
   "metadata": {}
  }
 ]
}