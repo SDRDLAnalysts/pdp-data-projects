{
 "metadata": {
  "name": "",
  "signature": "sha256:d2d885a5878e11d50ddad676a0c66394e26189d9057ec0c3292eb49400f9a330"
 },
 "nbformat": 3,
 "nbformat_minor": 0,
 "worksheets": [
  {
   "cells": [
    {
     "cell_type": "markdown",
     "metadata": {},
     "source": [
      "#211 Data Exploration"
     ]
    },
    {
     "cell_type": "markdown",
     "metadata": {},
     "source": [
      "See the [data manifest documentation]( http://devtest.sandiegodata.org.s3.amazonaws.com/manifests/fc22cee6-acfa-4236-a6cb-e0d887eba178/documentation.html) for details about the dataset. The [data schema](http://devtest.sandiegodata.org.s3.amazonaws.com/manifests/fc22cee6-acfa-4236-a6cb-e0d887eba178/p02J001002.html) is most valueable. "
     ]
    },
    {
     "cell_type": "code",
     "collapsed": false,
     "input": [
      "%matplotlib inline\n",
      "import numpy as np\n",
      "import pandas as pd\n",
      "import matplotlib.pyplot as plt\n",
      "pd.options.display.max_columns = 50\n",
      "# You'll probably need to run 'sudo pip install sdipylib' for this to work\n",
      "from  sdipylib.url import cache_url\n",
      "from IPython.core.display import HTML\n",
      "pd.__version__"
     ],
     "language": "python",
     "metadata": {},
     "outputs": [
      {
       "metadata": {},
       "output_type": "pyout",
       "prompt_number": 353,
       "text": [
        "'0.13.1'"
       ]
      }
     ],
     "prompt_number": 353
    },
    {
     "cell_type": "code",
     "collapsed": false,
     "input": [
      "# cache_url will download the URL and store it in a local file, but when it is called a second time, it uses the\n",
      "# downloaded file. You'll have to delete the file externally to get an update. \n",
      "fn = cache_url('http://devtest.sandiegodata.org.s3.amazonaws.com/manifests/fc22cee6-acfa-4236-a6cb-e0d887eba178/211_service_calls.csv')\n",
      "print fn\n",
      "# Read_csv guesses that some columns are numbers, and complains when a string appears, so we have to be \n",
      "# explicit about the datatyps of these columns. \n",
      "df = pd.read_csv(fn,dtype =  {16: str, 26: str, 27: str, 29: str})"
     ],
     "language": "python",
     "metadata": {},
     "outputs": [
      {
       "output_type": "stream",
       "stream": "stdout",
       "text": [
        "/Users/Gonzalo/IPython Notebooks/pdp-data-projects/211sandiego.org/servicecalls/analysts/211_service_calls.csv\n"
       ]
      }
     ],
     "prompt_number": 354
    },
    {
     "cell_type": "markdown",
     "metadata": {},
     "source": [
      "###Quick glimpse of the dataset"
     ]
    },
    {
     "cell_type": "code",
     "collapsed": false,
     "input": [
      "df.info()"
     ],
     "language": "python",
     "metadata": {},
     "outputs": [
      {
       "output_type": "stream",
       "stream": "stdout",
       "text": [
        "<class 'pandas.core.frame.DataFrame'>\n",
        "Int64Index: 894555 entries, 0 to 894554\n",
        "Data columns (total 36 columns):\n",
        "id                    894555 non-null int64\n",
        "call_stat             27213 non-null object\n",
        "restrictions          894555 non-null object\n",
        "create_time           894555 non-null object\n",
        "client_id             894555 non-null int64\n",
        "queue                 878872 non-null object\n",
        "call_type             891831 non-null object\n",
        "relationship          877449 non-null object\n",
        "called_before         765259 non-null object\n",
        "how_hear              644881 non-null object\n",
        "have_ins              720137 non-null object\n",
        "ins_type              537178 non-null object\n",
        "hshld_disabled        815073 non-null object\n",
        "gender                893053 non-null object\n",
        "age_goups             734977 non-null object\n",
        "caller_age            3241 non-null float64\n",
        "preg_lt6              206600 non-null object\n",
        "child_lt6             572111 non-null float64\n",
        "ethnicity             638658 non-null object\n",
        "race                  689592 non-null object\n",
        "language              875452 non-null object\n",
        "hshld_size            765032 non-null float64\n",
        "hshld_size_code       121262 non-null object\n",
        "income_source         678474 non-null object\n",
        "hshld_income          874449 non-null float64\n",
        "hshld_pct_fpl         783141 non-null float64\n",
        "hshld_pct_fpl_code    960 non-null object\n",
        "income_declined       5098 non-null object\n",
        "zip                   893471 non-null float64\n",
        "zip_code              29 non-null object\n",
        "need_tax_code         762479 non-null object\n",
        "need_tax_cat          762479 non-null object\n",
        "need_unmet            762479 non-null object\n",
        "need_reason_unmet     17391 non-null object\n",
        "ref_agency            763210 non-null object\n",
        "ref_name              763277 non-null object\n",
        "dtypes: float64(6), int64(2), object(28)"
       ]
      }
     ],
     "prompt_number": 355
    },
    {
     "cell_type": "code",
     "collapsed": false,
     "input": [
      "df.head()"
     ],
     "language": "python",
     "metadata": {},
     "outputs": [
      {
       "html": [
        "<div style=\"max-height:1000px;max-width:1500px;overflow:auto;\">\n",
        "<table border=\"1\" class=\"dataframe\">\n",
        "  <thead>\n",
        "    <tr style=\"text-align: right;\">\n",
        "      <th></th>\n",
        "      <th>id</th>\n",
        "      <th>call_stat</th>\n",
        "      <th>restrictions</th>\n",
        "      <th>create_time</th>\n",
        "      <th>client_id</th>\n",
        "      <th>queue</th>\n",
        "      <th>call_type</th>\n",
        "      <th>relationship</th>\n",
        "      <th>called_before</th>\n",
        "      <th>how_hear</th>\n",
        "      <th>have_ins</th>\n",
        "      <th>ins_type</th>\n",
        "      <th>hshld_disabled</th>\n",
        "      <th>gender</th>\n",
        "      <th>age_goups</th>\n",
        "      <th>caller_age</th>\n",
        "      <th>preg_lt6</th>\n",
        "      <th>child_lt6</th>\n",
        "      <th>ethnicity</th>\n",
        "      <th>race</th>\n",
        "      <th>language</th>\n",
        "      <th>hshld_size</th>\n",
        "      <th>hshld_size_code</th>\n",
        "      <th>income_source</th>\n",
        "      <th>hshld_income</th>\n",
        "      <th>hshld_pct_fpl</th>\n",
        "      <th>hshld_pct_fpl_code</th>\n",
        "      <th>income_declined</th>\n",
        "      <th>zip</th>\n",
        "      <th>zip_code</th>\n",
        "      <th>need_tax_code</th>\n",
        "      <th>need_tax_cat</th>\n",
        "      <th>need_unmet</th>\n",
        "      <th>need_reason_unmet</th>\n",
        "      <th>ref_agency</th>\n",
        "      <th>ref_name</th>\n",
        "    </tr>\n",
        "  </thead>\n",
        "  <tbody>\n",
        "    <tr>\n",
        "      <th>0</th>\n",
        "      <td> 1</td>\n",
        "      <td> NaN</td>\n",
        "      <td> 211 San Diego</td>\n",
        "      <td>  07/01/2013 00:03:30.57451 PDT</td>\n",
        "      <td> 13110365</td>\n",
        "      <td> General</td>\n",
        "      <td> Assessment and Referral</td>\n",
        "      <td> Self</td>\n",
        "      <td> No</td>\n",
        "      <td>         Other</td>\n",
        "      <td> Yes</td>\n",
        "      <td> Medi-Cal</td>\n",
        "      <td> No</td>\n",
        "      <td> Female</td>\n",
        "      <td> NaN</td>\n",
        "      <td>NaN</td>\n",
        "      <td> NaN</td>\n",
        "      <td> 0</td>\n",
        "      <td> NaN</td>\n",
        "      <td> NaN</td>\n",
        "      <td> English</td>\n",
        "      <td>  3</td>\n",
        "      <td>       NaN</td>\n",
        "      <td> NaN</td>\n",
        "      <td>NaN</td>\n",
        "      <td>NaN</td>\n",
        "      <td> NaN</td>\n",
        "      <td> NaN</td>\n",
        "      <td> 92277</td>\n",
        "      <td> NaN</td>\n",
        "      <td>          BH-3900</td>\n",
        "      <td>      Housing Search and Information</td>\n",
        "      <td> f</td>\n",
        "      <td>                                   NaN</td>\n",
        "      <td> San Diego Housing Commission</td>\n",
        "      <td> City of San Diego Affordable Housing Informati...</td>\n",
        "    </tr>\n",
        "    <tr>\n",
        "      <th>1</th>\n",
        "      <td> 2</td>\n",
        "      <td> NaN</td>\n",
        "      <td> 211 San Diego</td>\n",
        "      <td>  07/01/2013 00:03:30.57451 PDT</td>\n",
        "      <td> 13110365</td>\n",
        "      <td> General</td>\n",
        "      <td> Assessment and Referral</td>\n",
        "      <td> Self</td>\n",
        "      <td> No</td>\n",
        "      <td>         Other</td>\n",
        "      <td> Yes</td>\n",
        "      <td> Medi-Cal</td>\n",
        "      <td> No</td>\n",
        "      <td> Female</td>\n",
        "      <td> NaN</td>\n",
        "      <td>NaN</td>\n",
        "      <td> NaN</td>\n",
        "      <td> 0</td>\n",
        "      <td> NaN</td>\n",
        "      <td> NaN</td>\n",
        "      <td> English</td>\n",
        "      <td>  3</td>\n",
        "      <td>       NaN</td>\n",
        "      <td> NaN</td>\n",
        "      <td>NaN</td>\n",
        "      <td>NaN</td>\n",
        "      <td> NaN</td>\n",
        "      <td> NaN</td>\n",
        "      <td> 92277</td>\n",
        "      <td> NaN</td>\n",
        "      <td>          BH-8600</td>\n",
        "      <td>        Transitional Housing/Shelter</td>\n",
        "      <td> f</td>\n",
        "      <td>                                   NaN</td>\n",
        "      <td> San Diego Housing Commission</td>\n",
        "      <td> City of San Diego Affordable Housing Informati...</td>\n",
        "    </tr>\n",
        "    <tr>\n",
        "      <th>2</th>\n",
        "      <td> 3</td>\n",
        "      <td> NaN</td>\n",
        "      <td> 211 San Diego</td>\n",
        "      <td>  07/01/2013 00:03:30.57451 PDT</td>\n",
        "      <td> 13110365</td>\n",
        "      <td> General</td>\n",
        "      <td> Assessment and Referral</td>\n",
        "      <td> Self</td>\n",
        "      <td> No</td>\n",
        "      <td>         Other</td>\n",
        "      <td> Yes</td>\n",
        "      <td> Medi-Cal</td>\n",
        "      <td> No</td>\n",
        "      <td> Female</td>\n",
        "      <td> NaN</td>\n",
        "      <td>NaN</td>\n",
        "      <td> NaN</td>\n",
        "      <td> 0</td>\n",
        "      <td> NaN</td>\n",
        "      <td> NaN</td>\n",
        "      <td> English</td>\n",
        "      <td>  3</td>\n",
        "      <td>       NaN</td>\n",
        "      <td> NaN</td>\n",
        "      <td>NaN</td>\n",
        "      <td>NaN</td>\n",
        "      <td> NaN</td>\n",
        "      <td> NaN</td>\n",
        "      <td> 92277</td>\n",
        "      <td> NaN</td>\n",
        "      <td>          BH-3900</td>\n",
        "      <td>      Housing Search and Information</td>\n",
        "      <td> f</td>\n",
        "      <td>                                   NaN</td>\n",
        "      <td>     YWCA of San Diego County</td>\n",
        "      <td>     Cortez Hill Shelter, YWCA of San Diego County</td>\n",
        "    </tr>\n",
        "    <tr>\n",
        "      <th>3</th>\n",
        "      <td> 4</td>\n",
        "      <td> NaN</td>\n",
        "      <td> 211 San Diego</td>\n",
        "      <td>  07/01/2013 00:03:30.57451 PDT</td>\n",
        "      <td> 13110365</td>\n",
        "      <td> General</td>\n",
        "      <td> Assessment and Referral</td>\n",
        "      <td> Self</td>\n",
        "      <td> No</td>\n",
        "      <td>         Other</td>\n",
        "      <td> Yes</td>\n",
        "      <td> Medi-Cal</td>\n",
        "      <td> No</td>\n",
        "      <td> Female</td>\n",
        "      <td> NaN</td>\n",
        "      <td>NaN</td>\n",
        "      <td> NaN</td>\n",
        "      <td> 0</td>\n",
        "      <td> NaN</td>\n",
        "      <td> NaN</td>\n",
        "      <td> English</td>\n",
        "      <td>  3</td>\n",
        "      <td>       NaN</td>\n",
        "      <td> NaN</td>\n",
        "      <td>NaN</td>\n",
        "      <td>NaN</td>\n",
        "      <td> NaN</td>\n",
        "      <td> NaN</td>\n",
        "      <td> 92277</td>\n",
        "      <td> NaN</td>\n",
        "      <td>          BH-8600</td>\n",
        "      <td>        Transitional Housing/Shelter</td>\n",
        "      <td> f</td>\n",
        "      <td>                                   NaN</td>\n",
        "      <td>     YWCA of San Diego County</td>\n",
        "      <td>     Cortez Hill Shelter, YWCA of San Diego County</td>\n",
        "    </tr>\n",
        "    <tr>\n",
        "      <th>4</th>\n",
        "      <td> 5</td>\n",
        "      <td> NaN</td>\n",
        "      <td> 211 San Diego</td>\n",
        "      <td> 07/01/2013 00:06:18.147102 PDT</td>\n",
        "      <td> 13110367</td>\n",
        "      <td> General</td>\n",
        "      <td> Assessment and Referral</td>\n",
        "      <td> Self</td>\n",
        "      <td> No</td>\n",
        "      <td> Friend/Family</td>\n",
        "      <td> Yes</td>\n",
        "      <td> Medi-Cal</td>\n",
        "      <td> No</td>\n",
        "      <td> Female</td>\n",
        "      <td> NaN</td>\n",
        "      <td>NaN</td>\n",
        "      <td> NaN</td>\n",
        "      <td> 1</td>\n",
        "      <td> NaN</td>\n",
        "      <td> NaN</td>\n",
        "      <td> English</td>\n",
        "      <td>NaN</td>\n",
        "      <td> 7 or more</td>\n",
        "      <td> NaN</td>\n",
        "      <td>NaN</td>\n",
        "      <td>NaN</td>\n",
        "      <td> NaN</td>\n",
        "      <td> NaN</td>\n",
        "      <td> 91911</td>\n",
        "      <td> NaN</td>\n",
        "      <td> BT-4500.6500-500</td>\n",
        "      <td> Medical Appointments Transportation</td>\n",
        "      <td> t</td>\n",
        "      <td> No referral given/Service unavailable</td>\n",
        "      <td> Fish Service Volunteers, Inc</td>\n",
        "      <td> Rides for Medical Appointments, Fish Service V...</td>\n",
        "    </tr>\n",
        "  </tbody>\n",
        "</table>\n",
        "<p>5 rows \u00d7 36 columns</p>\n",
        "</div>"
       ],
       "metadata": {},
       "output_type": "pyout",
       "prompt_number": 356,
       "text": [
        "   id call_stat   restrictions                     create_time  client_id  \\\n",
        "0   1       NaN  211 San Diego   07/01/2013 00:03:30.57451 PDT   13110365   \n",
        "1   2       NaN  211 San Diego   07/01/2013 00:03:30.57451 PDT   13110365   \n",
        "2   3       NaN  211 San Diego   07/01/2013 00:03:30.57451 PDT   13110365   \n",
        "3   4       NaN  211 San Diego   07/01/2013 00:03:30.57451 PDT   13110365   \n",
        "4   5       NaN  211 San Diego  07/01/2013 00:06:18.147102 PDT   13110367   \n",
        "\n",
        "     queue                call_type relationship called_before       how_hear  \\\n",
        "0  General  Assessment and Referral         Self            No          Other   \n",
        "1  General  Assessment and Referral         Self            No          Other   \n",
        "2  General  Assessment and Referral         Self            No          Other   \n",
        "3  General  Assessment and Referral         Self            No          Other   \n",
        "4  General  Assessment and Referral         Self            No  Friend/Family   \n",
        "\n",
        "  have_ins  ins_type hshld_disabled  gender age_goups  caller_age preg_lt6  \\\n",
        "0      Yes  Medi-Cal             No  Female       NaN         NaN      NaN   \n",
        "1      Yes  Medi-Cal             No  Female       NaN         NaN      NaN   \n",
        "2      Yes  Medi-Cal             No  Female       NaN         NaN      NaN   \n",
        "3      Yes  Medi-Cal             No  Female       NaN         NaN      NaN   \n",
        "4      Yes  Medi-Cal             No  Female       NaN         NaN      NaN   \n",
        "\n",
        "   child_lt6 ethnicity race language  hshld_size hshld_size_code  \\\n",
        "0          0       NaN  NaN  English           3             NaN   \n",
        "1          0       NaN  NaN  English           3             NaN   \n",
        "2          0       NaN  NaN  English           3             NaN   \n",
        "3          0       NaN  NaN  English           3             NaN   \n",
        "4          1       NaN  NaN  English         NaN       7 or more   \n",
        "\n",
        "  income_source  hshld_income  hshld_pct_fpl hshld_pct_fpl_code  \\\n",
        "0           NaN           NaN            NaN                NaN   \n",
        "1           NaN           NaN            NaN                NaN   \n",
        "2           NaN           NaN            NaN                NaN   \n",
        "3           NaN           NaN            NaN                NaN   \n",
        "4           NaN           NaN            NaN                NaN   \n",
        "\n",
        "  income_declined    zip zip_code     need_tax_code  \\\n",
        "0             NaN  92277      NaN           BH-3900   \n",
        "1             NaN  92277      NaN           BH-8600   \n",
        "2             NaN  92277      NaN           BH-3900   \n",
        "3             NaN  92277      NaN           BH-8600   \n",
        "4             NaN  91911      NaN  BT-4500.6500-500   \n",
        "\n",
        "                          need_tax_cat need_unmet  \\\n",
        "0       Housing Search and Information          f   \n",
        "1         Transitional Housing/Shelter          f   \n",
        "2       Housing Search and Information          f   \n",
        "3         Transitional Housing/Shelter          f   \n",
        "4  Medical Appointments Transportation          t   \n",
        "\n",
        "                       need_reason_unmet                    ref_agency  \\\n",
        "0                                    NaN  San Diego Housing Commission   \n",
        "1                                    NaN  San Diego Housing Commission   \n",
        "2                                    NaN      YWCA of San Diego County   \n",
        "3                                    NaN      YWCA of San Diego County   \n",
        "4  No referral given/Service unavailable  Fish Service Volunteers, Inc   \n",
        "\n",
        "                                            ref_name  \n",
        "0  City of San Diego Affordable Housing Informati...  \n",
        "1  City of San Diego Affordable Housing Informati...  \n",
        "2      Cortez Hill Shelter, YWCA of San Diego County  \n",
        "3      Cortez Hill Shelter, YWCA of San Diego County  \n",
        "4  Rides for Medical Appointments, Fish Service V...  \n",
        "\n",
        "[5 rows x 36 columns]"
       ]
      }
     ],
     "prompt_number": 356
    },
    {
     "cell_type": "code",
     "collapsed": false,
     "input": [
      "len(df)"
     ],
     "language": "python",
     "metadata": {},
     "outputs": [
      {
       "metadata": {},
       "output_type": "pyout",
       "prompt_number": 357,
       "text": [
        "894555"
       ]
      }
     ],
     "prompt_number": 357
    },
    {
     "cell_type": "markdown",
     "metadata": {},
     "source": [
      "Almost 900k records."
     ]
    },
    {
     "cell_type": "code",
     "collapsed": false,
     "input": [
      "#id column is redundant. \n",
      "df = df.drop('id', 1)"
     ],
     "language": "python",
     "metadata": {},
     "outputs": [],
     "prompt_number": 358
    },
    {
     "cell_type": "markdown",
     "metadata": {},
     "source": [
      "##The Duplicate Situation (same client_id)"
     ]
    },
    {
     "cell_type": "markdown",
     "metadata": {},
     "source": [
      "900k records... but are they all unique calls? \n",
      "\n",
      "Below you can see the caller_id in the first column and the number of calls in the second."
     ]
    },
    {
     "cell_type": "code",
     "collapsed": false,
     "input": [
      "df.client_id.value_counts()"
     ],
     "language": "python",
     "metadata": {},
     "outputs": [
      {
       "metadata": {},
       "output_type": "pyout",
       "prompt_number": 359,
       "text": [
        "15321786    216\n",
        "16056720    192\n",
        "16036451    180\n",
        "17072765    180\n",
        "16648348    168\n",
        "15783286    150\n",
        "15685628    150\n",
        "16851054    150\n",
        "16110177    144\n",
        "15974764    144\n",
        "14433974    136\n",
        "17319012    135\n",
        "13614118    130\n",
        "16917545    128\n",
        "17037815    124\n",
        "...\n",
        "16430664    1\n",
        "16397912    1\n",
        "14296666    1\n",
        "14298715    1\n",
        "13340271    1\n",
        "16475762    1\n",
        "14478979    1\n",
        "13469358    1\n",
        "15548089    1\n",
        "15605469    1\n",
        "14677728    1\n",
        "14655213    1\n",
        "15695601    1\n",
        "15787778    1\n",
        "15532192    1\n",
        "Length: 215563, dtype: int64"
       ]
      }
     ],
     "prompt_number": 359
    },
    {
     "cell_type": "markdown",
     "metadata": {},
     "source": [
      "- Several instances of +100 calls from same id... could these originate at call centers / offices?\n",
      "- Notice that the length is 215k for unique client_ids (out of 900k records). \n",
      "    - This means only 25% of data set are unique caller_ids."
     ]
    },
    {
     "cell_type": "markdown",
     "metadata": {},
     "source": [
      "### Duplicate or not? Let's explore the top client_id."
     ]
    },
    {
     "cell_type": "code",
     "collapsed": false,
     "input": [
      "df[df.client_id==15321786].create_time.value_counts()"
     ],
     "language": "python",
     "metadata": {},
     "outputs": [
      {
       "metadata": {},
       "output_type": "pyout",
       "prompt_number": 360,
       "text": [
        "01/15/2014 13:49:22.662068 PST    216\n",
        "dtype: int64"
       ]
      }
     ],
     "prompt_number": 360
    },
    {
     "cell_type": "markdown",
     "metadata": {},
     "source": [
      "216 calls placed at the exact same time.\n",
      "\n",
      "For this client_id, which columns share the same value? T= All Equal, F= Not All Equal"
     ]
    },
    {
     "cell_type": "code",
     "collapsed": false,
     "input": [
      "x=df[df.client_id==15321786].T.dropna()\n",
      "x.eq(x.iloc[:, 0], axis=0).all(1)"
     ],
     "language": "python",
     "metadata": {},
     "outputs": [
      {
       "metadata": {},
       "output_type": "pyout",
       "prompt_number": 361,
       "text": [
        "restrictions       True\n",
        "create_time        True\n",
        "client_id          True\n",
        "queue              True\n",
        "call_type          True\n",
        "relationship       True\n",
        "called_before      True\n",
        "have_ins           True\n",
        "ins_type           True\n",
        "hshld_disabled     True\n",
        "gender             True\n",
        "age_goups          True\n",
        "child_lt6          True\n",
        "ethnicity          True\n",
        "race               True\n",
        "language           True\n",
        "hshld_size         True\n",
        "income_source     False\n",
        "hshld_income       True\n",
        "hshld_pct_fpl      True\n",
        "zip                True\n",
        "need_tax_code     False\n",
        "need_tax_cat      False\n",
        "need_unmet         True\n",
        "ref_agency        False\n",
        "ref_name          False\n",
        "dtype: bool"
       ]
      }
     ],
     "prompt_number": 361
    },
    {
     "cell_type": "markdown",
     "metadata": {},
     "source": [
      "Same for all columns except (1) **income_source**, (2) **need_tax_code/cat**, and (3) **refering agency/name**.\n",
      "\n",
      "Let's see the differences."
     ]
    },
    {
     "cell_type": "code",
     "collapsed": false,
     "input": [
      "print \"There are\", len(df[df.client_id==15321786].income_source.unique()),\"unique types of income source\"\n",
      "print \"There are\", len(df[df.client_id==15321786].need_tax_code.unique()),\"unique types of need_tax_code\"\n",
      "print \"There are\", len(df[df.client_id==15321786].ref_name.unique()),\"unique types of ref_name\""
     ],
     "language": "python",
     "metadata": {},
     "outputs": [
      {
       "output_type": "stream",
       "stream": "stdout",
       "text": [
        "There are 18 unique types of income source\n",
        "There are 3 unique types of need_tax_code\n",
        "There are 4 unique types of ref_name\n"
       ]
      }
     ],
     "prompt_number": 362
    },
    {
     "cell_type": "markdown",
     "metadata": {},
     "source": [
      "##Alain's discovery\n",
      "\n",
      "This could be a database issue, since 4 x 3 x 18 = 216.\n",
      "\n",
      "Did the data entry person entered several choices for each of these three categories? \n",
      "\n",
      "Did this eventually show up in our data set as all the different combinations since it only allows one value per column?\n",
      "\n",
      "###Let's verify with another client_id."
     ]
    },
    {
     "cell_type": "code",
     "collapsed": false,
     "input": [
      "y=df[df.client_id==16036451].T.dropna()\n",
      "#For each column in subset, T = All row values are equal, F = Not all row values are equal.\n",
      "y.eq(y.iloc[:, 0], axis=0).all(1)"
     ],
     "language": "python",
     "metadata": {},
     "outputs": [
      {
       "metadata": {},
       "output_type": "pyout",
       "prompt_number": 363,
       "text": [
        "restrictions       True\n",
        "create_time        True\n",
        "client_id          True\n",
        "queue              True\n",
        "call_type          True\n",
        "relationship       True\n",
        "called_before      True\n",
        "how_hear           True\n",
        "have_ins           True\n",
        "ins_type          False\n",
        "hshld_disabled     True\n",
        "gender             True\n",
        "age_goups          True\n",
        "preg_lt6           True\n",
        "race               True\n",
        "language           True\n",
        "hshld_size         True\n",
        "income_source     False\n",
        "hshld_income       True\n",
        "hshld_pct_fpl      True\n",
        "zip                True\n",
        "need_tax_code     False\n",
        "need_tax_cat      False\n",
        "need_unmet         True\n",
        "ref_agency        False\n",
        "ref_name          False\n",
        "dtype: bool"
       ]
      }
     ],
     "prompt_number": 363
    },
    {
     "cell_type": "code",
     "collapsed": false,
     "input": [
      "print \"Client_id called\", len(df[df.client_id==16036451].create_time), \"times.\"\n",
      "print \"There are\", len(df[df.client_id==16036451].ins_type.unique()),\"unique types of ins_type\"\n",
      "print \"There are\", len(df[df.client_id==16036451].income_source.unique()),\"unique types of income_source\"\n",
      "print \"There are\", len(df[df.client_id==16036451].need_tax_code.unique()),\"unique types of need_tax_code\"\n",
      "print \"There are\", len(df[df.client_id==16036451].ref_agency.unique()),\"unique types of ref_agency\""
     ],
     "language": "python",
     "metadata": {},
     "outputs": [
      {
       "output_type": "stream",
       "stream": "stdout",
       "text": [
        "Client_id called 180 times.\n",
        "There are 2 unique types of ins_type\n",
        "There are 3 unique types of income_source\n",
        "There are 5 unique types of need_tax_code\n",
        "There are "
       ]
      },
      {
       "output_type": "stream",
       "stream": "stdout",
       "text": [
        "6 unique types of ref_agency\n"
       ]
      }
     ],
     "prompt_number": 364
    },
    {
     "cell_type": "markdown",
     "metadata": {},
     "source": [
      "6 x 5 x 3 x 2 = 180"
     ]
    },
    {
     "cell_type": "markdown",
     "metadata": {},
     "source": [
      "### Dropping Duplicated Records"
     ]
    },
    {
     "cell_type": "markdown",
     "metadata": {},
     "source": [
      "We could drop the duplicates, but it seems that those are way too many."
     ]
    },
    {
     "cell_type": "code",
     "collapsed": false,
     "input": [
      "df=df.drop_duplicates(cols=('client_id') , take_last=False, inplace=False)\n",
      "print \"The data set has now\",len(df), \"records now.\""
     ],
     "language": "python",
     "metadata": {},
     "outputs": [
      {
       "output_type": "stream",
       "stream": "stdout",
       "text": [
        "The data set has now 215563 records now.\n"
       ]
      }
     ],
     "prompt_number": 379
    },
    {
     "cell_type": "markdown",
     "metadata": {},
     "source": [
      "#Type of Call"
     ]
    },
    {
     "cell_type": "code",
     "collapsed": false,
     "input": [
      "print \"Completed Call    \", df.call_stat.isnull().sum()\n",
      "print df.call_stat.value_counts()"
     ],
     "language": "python",
     "metadata": {},
     "outputs": [
      {
       "output_type": "stream",
       "stream": "stdout",
       "text": [
        "Completed Call     199714\n",
        "Disconnected Call    9059\n",
        "Dropped Call         6327\n",
        "Training Call         463\n",
        "dtype: int64\n"
       ]
      }
     ],
     "prompt_number": 366
    },
    {
     "cell_type": "markdown",
     "metadata": {},
     "source": [
      "#Time: Call Volume Distribution"
     ]
    },
    {
     "cell_type": "code",
     "collapsed": false,
     "input": [
      "from datetime import datetime\n",
      "def string_to_date(date_string):\n",
      "    return datetime.strptime(date_string, \"%m/%d/%Y %H:%M:%S.%f %Z\")\n",
      "\n",
      "# Run the function on every date string and overwrite the column\n",
      "df.create_time = df.create_time.apply(string_to_date)"
     ],
     "language": "python",
     "metadata": {},
     "outputs": [],
     "prompt_number": 367
    },
    {
     "cell_type": "code",
     "collapsed": false,
     "input": [
      "df[\"date\"] = df.create_time.apply(lambda d : d.date())\n",
      "call_volume_per_date = df.groupby(['date']).size()\n",
      "\n",
      "df[\"day\"] = df.create_time.apply(lambda d : d.day)\n",
      "call_volume_per_day = df.groupby(['day']).size()\n",
      "\n",
      "df[\"week\"] = df.create_time.apply(lambda d : d.week)\n",
      "call_volume_per_week = df.groupby(['week']).size()\n",
      "\n",
      "df[\"weekday\"] = df.create_time.apply(lambda d : d.weekday())\n",
      "call_volume_per_weekday = df.groupby(['weekday']).size()\n",
      "\n",
      "df[\"month\"] = df.create_time.apply(lambda d : d.month)\n",
      "call_volume_per_month = df.groupby(['month']).size()\n",
      "\n",
      "df[\"hour\"] = df.create_time.apply(lambda d : d.hour)\n",
      "call_volume_per_hour = df.groupby(['hour']).size()"
     ],
     "language": "python",
     "metadata": {},
     "outputs": [],
     "prompt_number": 368
    },
    {
     "cell_type": "code",
     "collapsed": false,
     "input": [
      "call_volume_per_month.plot(kind='bar', ylim=(15000,22000),figsize=(10, 4))"
     ],
     "language": "python",
     "metadata": {},
     "outputs": [
      {
       "metadata": {},
       "output_type": "pyout",
       "prompt_number": 369,
       "text": [
        "<matplotlib.axes.AxesSubplot at 0x17f423f50>"
       ]
      },
      {
       "metadata": {},
       "output_type": "display_data",
       "png": "[encoded data removed]",
       "text": [
        "<matplotlib.figure.Figure at 0x17f423110>"
       ]
      }
     ],
     "prompt_number": 369
    },
    {
     "cell_type": "code",
     "collapsed": false,
     "input": [
      "call_volume_per_week.plot(kind='bar', ylim=(1500,6000),figsize=(20, 4))"
     ],
     "language": "python",
     "metadata": {},
     "outputs": [
      {
       "metadata": {},
       "output_type": "pyout",
       "prompt_number": 370,
       "text": [
        "<matplotlib.axes.AxesSubplot at 0x17f435e50>"
       ]
      },
      {
       "metadata": {},
       "output_type": "display_data",
       "png": "[encoded data removed]",
       "text": [
        "<matplotlib.figure.Figure at 0x17f40ae10>"
       ]
      }
     ],
     "prompt_number": 370
    },
    {
     "cell_type": "code",
     "collapsed": false,
     "input": [
      "call_volume_per_weekday.plot(kind='bar',figsize=(10, 4))"
     ],
     "language": "python",
     "metadata": {},
     "outputs": [
      {
       "metadata": {},
       "output_type": "pyout",
       "prompt_number": 371,
       "text": [
        "<matplotlib.axes.AxesSubplot at 0x11f4cf1d0>"
       ]
      },
      {
       "metadata": {},
       "output_type": "display_data",
       "png": "[encoded data removed]",
       "text": [
        "<matplotlib.figure.Figure at 0x11f4cb9d0>"
       ]
      }
     ],
     "prompt_number": 371
    },
    {
     "cell_type": "code",
     "collapsed": false,
     "input": [
      "call_volume_per_hour.plot(kind='bar',figsize=(10, 4))"
     ],
     "language": "python",
     "metadata": {},
     "outputs": [
      {
       "metadata": {},
       "output_type": "pyout",
       "prompt_number": 372,
       "text": [
        "<matplotlib.axes.AxesSubplot at 0x11d5c5c90>"
       ]
      },
      {
       "metadata": {},
       "output_type": "display_data",
       "png": "[encoded data removed]",
       "text": [
        "<matplotlib.figure.Figure at 0x11f4c2910>"
       ]
      }
     ],
     "prompt_number": 372
    },
    {
     "cell_type": "markdown",
     "metadata": {},
     "source": [
      "### Hourly Volume by Day of Week"
     ]
    },
    {
     "cell_type": "code",
     "collapsed": false,
     "input": [
      "weekday_v_hour = df[[\"weekday\", \"hour\"]].groupby([\"weekday\",\"hour\"]).size().unstack(level=1).fillna(0)\n",
      "\n",
      "plt.pcolor(weekday_v_hour, cmap='Blues') #Blues,Reds,Oranges,Greens,Purples\n",
      "plt.yticks(np.arange(0, len(weekday_v_hour.index), 1), weekday_v_hour.index)\n",
      "plt.xticks(np.arange(0, len(weekday_v_hour.columns), 1), weekday_v_hour.columns)\n",
      "plt.title(\"Call Volume\")\n",
      "plt.xlabel(\"Hour of day\")\n",
      "plt.ylabel(\"Day of the week\")\n",
      "plt.xlim(4,22)\n",
      "plt.show()"
     ],
     "language": "python",
     "metadata": {},
     "outputs": [
      {
       "metadata": {},
       "output_type": "display_data",
       "png": "[encoded data removed]",
       "text": [
        "<matplotlib.figure.Figure at 0x11d5e0f10>"
       ]
      }
     ],
     "prompt_number": 373
    },
    {
     "cell_type": "markdown",
     "metadata": {},
     "source": [
      "^ Hey, guess who just learned how to do a heat map. This guy!"
     ]
    },
    {
     "cell_type": "markdown",
     "metadata": {},
     "source": [
      "# 211 Most Requested Needs"
     ]
    },
    {
     "cell_type": "code",
     "collapsed": false,
     "input": [
      "print \"We can look at a particular needs, but there are\",len(df.need_tax_cat.unique()),\"unique needs\"\n",
      "print \"So let's look at the top 5 2-1-1 needs.\\nValues = Call volume\"\n",
      "print \"\\n\", df.need_tax_cat.value_counts().head(5)"
     ],
     "language": "python",
     "metadata": {},
     "outputs": [
      {
       "output_type": "stream",
       "stream": "stdout",
       "text": [
        "We can look at a particular needs, but there are 1691 unique needs\n",
        "So let's look at the top 5 2-1-1 needs.\n",
        "Values = Call volume\n",
        "\n",
        "Electric Service Payment Assistance     17471\n",
        "Food Stamps/SNAP Applications            9338\n",
        "Specialized Information and Referral     9287\n",
        "Ongoing Emergency Food Assistance        5892\n",
        "Homeless Shelter                         4576\n",
        "dtype: int64"
       ]
      },
      {
       "output_type": "stream",
       "stream": "stdout",
       "text": [
        "\n"
       ]
      }
     ],
     "prompt_number": 389
    },
    {
     "cell_type": "code",
     "collapsed": false,
     "input": [
      "espa = df[(df.need_tax_cat==\"Electric Service Payment Assistance\")].groupby([\"week\"]).size()\n",
      "snap = df[(df.need_tax_cat==\"Food Stamps/SNAP Applications\")].groupby([\"week\"]).size()\n",
      "specialized = df[(df.need_tax_cat==\"Specialized Information and Referral\")].groupby([\"week\"]).size()\n",
      "emergencyfood = df[(df.need_tax_cat==\"Ongoing Emergency Food Assistance\")].groupby([\"week\"]).size()\n",
      "homelessshelter = df[(df.need_tax_cat==\"Homeless Shelter\")].groupby([\"week\"]).size()\n",
      "\n",
      "top5df= pd.DataFrame({ \n",
      "'Electric Service Payment Assistance': pd.Series(espa),\n",
      "'Food Stamps':pd.Series(snap),\n",
      "'Specialized Info':pd.Series(specialized),\n",
      "'Emergency Food (Ongoing)':pd.Series(emergencyfood),\n",
      "'Homeless':pd.Series(homelessshelter)\n",
      "}) \n",
      "top5plt = top5df.plot(figsize=(15, 4))\n",
      "top5plt.legend(loc='center left', bbox_to_anchor=(1, 0.5))"
     ],
     "language": "python",
     "metadata": {},
     "outputs": [
      {
       "metadata": {},
       "output_type": "pyout",
       "prompt_number": 396,
       "text": [
        "<matplotlib.legend.Legend at 0x11d582110>"
       ]
      },
      {
       "metadata": {},
       "output_type": "display_data",
       "png": "[encoded data removed]",
       "text": [
        "<matplotlib.figure.Figure at 0x11b2df410>"
       ]
      }
     ],
     "prompt_number": 396
    },
    {
     "cell_type": "markdown",
     "metadata": {},
     "source": [
      "We can looks for the word \"Food\" in need_cat_tax and create a food related need. \n",
      "\n",
      "This will combine food stamps, ongoing food emergencies, occasional emergency food assistance and some other food related needs.\n",
      "\n",
      "###Food Related Needs"
     ]
    },
    {
     "cell_type": "code",
     "collapsed": false,
     "input": [
      "df.need_tax_cat=df.need_tax_cat.fillna(\"\")\n",
      "foodrelated = df.need_tax_cat.str.contains(\"Food\")\n",
      "print df[foodrelated].need_tax_cat.value_counts().head(10)\n",
      "df[foodrelated].groupby([\"week\"]).size().plot()"
     ],
     "language": "python",
     "metadata": {},
     "outputs": [
      {
       "output_type": "stream",
       "stream": "stdout",
       "text": [
        "Food Stamps/SNAP Applications              9338\n",
        "Ongoing Emergency Food Assistance          5892\n",
        "Occasional Emergency Food Assistance       1207\n",
        "Commodity Supplemental Food Program         894\n",
        "Food Cooperatives                           162\n",
        "Formula/Baby Food                           129\n",
        "Food Stamps/SNAP                            123\n",
        "Food                                        121\n",
        "Food Handling Permits                        74\n",
        "Food Banks/Food Distribution Warehouses      65\n",
        "dtype: int64\n"
       ]
      },
      {
       "metadata": {},
       "output_type": "pyout",
       "prompt_number": 445,
       "text": [
        "<matplotlib.axes.AxesSubplot at 0x119aeecd0>"
       ]
      },
      {
       "metadata": {},
       "output_type": "display_data",
       "png": "[encoded data removed]",
       "text": [
        "<matplotlib.figure.Figure at 0x11abf5dd0>"
       ]
      }
     ],
     "prompt_number": 445
    },
    {
     "cell_type": "markdown",
     "metadata": {},
     "source": [
      "### Housing/Shelter Related Needs"
     ]
    },
    {
     "cell_type": "code",
     "collapsed": false,
     "input": [
      "houserelated = df.need_tax_cat.str.contains(\"Shelter\") + df.need_tax_cat.str.contains(\"Housing\") + df.need_tax_cat.str.contains(\"Rent\")\n",
      "print df[houserelated].need_tax_cat.value_counts().head(10)\n",
      "df[houserelated].groupby([\"week\"]).size().plot()"
     ],
     "language": "python",
     "metadata": {},
     "outputs": [
      {
       "output_type": "stream",
       "stream": "stdout",
       "text": [
        "Homeless Shelter                                   4576\n",
        "Rent Payment Assistance                            3528\n",
        "Housing Search and Information                     3094\n",
        "Transitional Housing/Shelter                       2931\n",
        "Rental Deposit Assistance                          1168\n",
        "Section 8 Housing Choice Vouchers                   956\n",
        "Domestic Violence Shelters                          664\n",
        "Subsidized Housing Administrative Organizations     645\n",
        "Low Income/Subsidized Rental Housing                616\n",
        "Low Cost Home Rental Listings                       494\n",
        "dtype: int64\n"
       ]
      },
      {
       "metadata": {},
       "output_type": "pyout",
       "prompt_number": 442,
       "text": [
        "<matplotlib.axes.AxesSubplot at 0x119faf0d0>"
       ]
      },
      {
       "metadata": {},
       "output_type": "display_data",
       "png": "[encoded data removed]",
       "text": [
        "<matplotlib.figure.Figure at 0x119f9fa10>"
       ]
      }
     ],
     "prompt_number": 442
    },
    {
     "cell_type": "markdown",
     "metadata": {},
     "source": [
      "### Utilites & Energy"
     ]
    },
    {
     "cell_type": "code",
     "collapsed": false,
     "input": [
      "utilities = df.need_tax_cat.str.contains(\"Utilities\") + df.need_tax_cat.str.contains(\"Gas Service\") + df.need_tax_cat.str.contains(\"Electric Service\") + df.need_tax_cat.str.contains(\"Weatherization Programs\")+ df.need_tax_cat.str.contains(\"Water Service\")+ df.need_tax_cat.str.contains(\"Telephone Service\")\n",
      "print df[utilities].need_tax_cat.value_counts().head(10)\n",
      "df[utilities].groupby([\"week\"]).size().plot()"
     ],
     "language": "python",
     "metadata": {},
     "outputs": [
      {
       "output_type": "stream",
       "stream": "stdout",
       "text": [
        "Electric Service Payment Assistance     17471\n",
        "Gas Service Payment Assistance           1844\n",
        "Weatherization Programs                   936\n",
        "Discounted Telephone Service              581\n",
        "Water Service Payment Assistance          523\n",
        "Utilities                                 161\n",
        "Electric Service Complaints                25\n",
        "Telephone Service Payment Assistance        8\n",
        "Discounted Electric Service                 2\n",
        "Telephone Service Providers                 2\n",
        "dtype: int64\n"
       ]
      },
      {
       "metadata": {},
       "output_type": "pyout",
       "prompt_number": 443,
       "text": [
        "<matplotlib.axes.AxesSubplot at 0x11a528f50>"
       ]
      },
      {
       "metadata": {},
       "output_type": "display_data",
       "png": "[encoded data removed]",
       "text": [
        "<matplotlib.figure.Figure at 0x11a52fe50>"
       ]
      }
     ],
     "prompt_number": 443
    },
    {
     "cell_type": "code",
     "collapsed": true,
     "input": [
      "#only considering SD zipcodes\n",
      "sdzip = df[(df.zip>91000)&(df.zip<93000)]\n",
      "call_volume_per_zip = sdzip.groupby(['zip']).size()\n",
      "\n",
      "#narrowing down to top 5\n",
      "topneedsbyzip = df[\n",
      "   (df.need_tax_cat == \"Transitional Housing/Shelter\") |\n",
      "   (df.need_tax_cat == \"Directory Assistance\") |\n",
      "   (df.need_tax_cat == \"Community Clinics\") |\n",
      "   (df.need_tax_cat == \"Bulk Mailing Services\") |\n",
      "   (df.need_tax_cat == \"Homeless Motel Vouchers\") |\n",
      "   (df.need_tax_cat == \"Gas Service Payment Assistance\") |\n",
      "   (df.need_tax_cat == \"Information and Referral Associations\") |\n",
      "   (df.need_tax_cat == \"Transitional Case/Care Management\") |\n",
      "   (df.need_tax_cat == \"Occasional Emergency Food Assistance\") |\n",
      "   (df.need_tax_cat == \"Rental Deposit Assistance \") |\n",
      "   (df.need_tax_cat == \"Food Stamps/SNAP Applications \") |\n",
      "   (df.need_tax_cat == \"Specialized Information and Referral\")|    \n",
      "   (df.need_tax_cat == \"Ongoing Emergency Food Assistance\")|        \n",
      "   (df.need_tax_cat == \"Homeless Shelter\")|                      \n",
      "   (df.need_tax_cat == \"Medicaid Applications\")|                    \n",
      "   (df.need_tax_cat == \"Rent Payment Assistance\")|                  \n",
      "   (df.need_tax_cat == \"Health Insurance Marketplaces\")|            \n",
      "   (df.need_tax_cat == \"VITA Program Sites\")|                       \n",
      "   (df.need_tax_cat == \"Housing Search and Information\")].groupby([\"need_tax_cat\",\"zip\"]).size().unstack(level=0).fillna(0)\n",
      "\n",
      "topneedsbyzip = topneedsbyzip[(topneedsbyzip.index > 92000)&(topneedsbyzip.index < 93000)]\n",
      "topneedsbyzip['call_volume_per_zip']=call_volume_per_zip\n",
      "topneedsbyzip=topneedsbyzip.dropna()\n",
      "x=topneedsbyzip.sum(axis=1)\n",
      "topneedsbyzip=10000*topneedsbyzip.div(topneedsbyzip.call_volume_per_zip, axis='index')\n",
      "topneedsbyzip['total']=x\n",
      "topneedsbyzip= topneedsbyzip[topneedsbyzip.total>1000].sort('Bulk Mailing Services',ascending=False)\n",
      "topneedsbyzip.to_csv('topneedsbyzip.csv')"
     ],
     "language": "python",
     "metadata": {},
     "outputs": [],
     "prompt_number": 375
    },
    {
     "cell_type": "markdown",
     "metadata": {},
     "source": [
      "###San Diego Needs by Zip Code (Relative to Call Volume)\n",
      "\n",
      "**Why are there blank areas?**\n",
      "\n",
      "- This map considers areas with a large number of callers. It is possible that the blank areas did not have a large volume of 211 calls.\n",
      "\n",
      "- This map considers 211 most requested services in SD. It is possible that blank areas did not call for these particular services. \n",
      "\n",
      "**How should I compare the gradient colors?**\n",
      "\n",
      "- The darker areas indicate that this is a top need for this area relative to all the other needs requested in that same are. Each zipcode/geometry should not be used to compare to another area.\n",
      "- The number in the legend represents the number of calls per 10,000"
     ]
    },
    {
     "cell_type": "code",
     "collapsed": false,
     "input": [
      "HTML(\"\"\"<iframe width=\"500\" height=\"300\" scrolling=\"no\" frameborder=\"no\" src=\"https://www.google.com/fusiontables/embedviz?q=select+col11%3E%3E1+from+1ACFi9rqEd2trXbcH_BeZ4iC1Dd3gK67bPzFXtTrP&amp;viz=MAP&amp;h=false&amp;lat=33.05217014140567&amp;lng=-117.08291784765629&amp;t=1&amp;z=9&amp;l=col11%3E%3E1&amp;y=2&amp;tmplt=2&amp;hml=KML\"></iframe>\"\"\")"
     ],
     "language": "python",
     "metadata": {},
     "outputs": [
      {
       "html": [
        "<iframe width=\"500\" height=\"300\" scrolling=\"no\" frameborder=\"no\" src=\"https://www.google.com/fusiontables/embedviz?q=select+col11%3E%3E1+from+1ACFi9rqEd2trXbcH_BeZ4iC1Dd3gK67bPzFXtTrP&amp;viz=MAP&amp;h=false&amp;lat=33.05217014140567&amp;lng=-117.08291784765629&amp;t=1&amp;z=9&amp;l=col11%3E%3E1&amp;y=2&amp;tmplt=2&amp;hml=KML\"></iframe>"
       ],
       "metadata": {},
       "output_type": "pyout",
       "prompt_number": 376,
       "text": [
        "<IPython.core.display.HTML at 0x11d2fda50>"
       ]
      }
     ],
     "prompt_number": 376
    },
    {
     "cell_type": "code",
     "collapsed": false,
     "input": [
      "HTML(\"\"\"<iframe width=\"500\" height=\"300\" scrolling=\"no\" frameborder=\"no\" src=\"https://www.google.com/fusiontables/embedviz?q=select+col11%3E%3E1+from+1ACFi9rqEd2trXbcH_BeZ4iC1Dd3gK67bPzFXtTrP&amp;viz=MAP&amp;h=false&amp;lat=33.038356371189096&amp;lng=-116.94284216406254&amp;t=1&amp;z=9&amp;l=col11%3E%3E1&amp;y=3&amp;tmplt=3&amp;hml=KML\"></iframe>\"\"\")"
     ],
     "language": "python",
     "metadata": {},
     "outputs": [
      {
       "html": [
        "<iframe width=\"500\" height=\"300\" scrolling=\"no\" frameborder=\"no\" src=\"https://www.google.com/fusiontables/embedviz?q=select+col11%3E%3E1+from+1ACFi9rqEd2trXbcH_BeZ4iC1Dd3gK67bPzFXtTrP&amp;viz=MAP&amp;h=false&amp;lat=33.038356371189096&amp;lng=-116.94284216406254&amp;t=1&amp;z=9&amp;l=col11%3E%3E1&amp;y=3&amp;tmplt=3&amp;hml=KML\"></iframe>"
       ],
       "metadata": {},
       "output_type": "pyout",
       "prompt_number": 377,
       "text": [
        "<IPython.core.display.HTML at 0x11d2fd890>"
       ]
      }
     ],
     "prompt_number": 377
    },
    {
     "cell_type": "code",
     "collapsed": false,
     "input": [
      "HTML(\"\"\"<iframe width=\"500\" height=\"300\" scrolling=\"no\" frameborder=\"no\" src=\"https://www.google.com/fusiontables/embedviz?q=select+col11%3E%3E1+from+1ACFi9rqEd2trXbcH_BeZ4iC1Dd3gK67bPzFXtTrP&amp;viz=MAP&amp;h=false&amp;lat=32.85021653307738&amp;lng=-117.10351721289067&amp;t=1&amp;z=9&amp;l=col11%3E%3E1&amp;y=4&amp;tmplt=4&amp;hml=KML\"></iframe>\"\"\")"
     ],
     "language": "python",
     "metadata": {},
     "outputs": [
      {
       "html": [
        "<iframe width=\"500\" height=\"300\" scrolling=\"no\" frameborder=\"no\" src=\"https://www.google.com/fusiontables/embedviz?q=select+col11%3E%3E1+from+1ACFi9rqEd2trXbcH_BeZ4iC1Dd3gK67bPzFXtTrP&amp;viz=MAP&amp;h=false&amp;lat=32.85021653307738&amp;lng=-117.10351721289067&amp;t=1&amp;z=9&amp;l=col11%3E%3E1&amp;y=4&amp;tmplt=4&amp;hml=KML\"></iframe>"
       ],
       "metadata": {},
       "output_type": "pyout",
       "prompt_number": 378,
       "text": [
        "<IPython.core.display.HTML at 0x11d2fd850>"
       ]
      }
     ],
     "prompt_number": 378
    },
    {
     "cell_type": "code",
     "collapsed": false,
     "input": [],
     "language": "python",
     "metadata": {},
     "outputs": [],
     "prompt_number": 378
    }
   ],
   "metadata": {}
  }
 ]
}