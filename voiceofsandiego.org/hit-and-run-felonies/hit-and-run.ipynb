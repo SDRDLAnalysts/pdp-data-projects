{
 "metadata": {
  "name": "",
  "signature": "sha256:10a3b88fbbdfeb72470831fc5d4f800eadb9a22cd8c5bcf490ec274dd69e631a"
 },
 "nbformat": 3,
 "nbformat_minor": 0,
 "worksheets": [
  {
   "cells": [
    {
     "cell_type": "code",
     "collapsed": true,
     "input": [
      "%matplotlib inline\n",
      "import numpy as np\n",
      "import matplotlib as mpl\n",
      "import pandas as pd\n",
      "from  sdipylib.url import cache_url\n",
      "pd.options.display.max_columns = 50\n",
      "fn = cache_url('http://devtest.sandiegodata.org.s3.amazonaws.com/manifests/7a007ac7-960f-468b-8ce3-7b9f83e34ea8/hnr0914.csv')\n",
      "df = pd.read_csv(fn)"
     ],
     "language": "python",
     "metadata": {},
     "outputs": [
      {
       "output_type": "stream",
       "stream": "stdout",
       "text": [
        "Wrote 229102 bytes, total 229102\n"
       ]
      }
     ],
     "prompt_number": 2
    },
    {
     "cell_type": "markdown",
     "metadata": {},
     "source": [
      "#Investigating sentenced hit & run cases from 2009 to 2014\n",
      "\n",
      "by Hila Hashemi and Gonzalo Urrutia \n",
      "of the San Diego Regional Data Library"
     ]
    },
    {
     "cell_type": "markdown",
     "metadata": {},
     "source": [
      "From the District Attorney's office (DA), a data set was put together that includes all the hit and run cases in San Diego County that were sentenced between 2009 and 2014.\n",
      "\n",
      "The datasets used in this analysis is [avaialble online.](http://devtest.sandiegodata.org.s3.amazonaws.com/manifests/7a007ac7-960f-468b-8ce3-7b9f83e34ea8/documentation.html)\n"
     ]
    },
    {
     "cell_type": "markdown",
     "metadata": {},
     "source": [
      "## About the sample\n",
      "\n",
      "The data set reflects only the highest charge sentenced.\n",
      "\n",
      "The data set does not reflect:\n",
      "\n",
      "- Which cases had victim injury or deaths.\n",
      "- Hit and run cases where injury or death occured, but charges were filed as non-injury / non-fatal (eg: DUI)\n",
      "- Defendant's previous record, which can influence the type and length of sentence as well as their elegibility for a bargain.\n",
      "\n",
      "The data set does not include cases that do not make it to court (eg: suspect got away)\n"
     ]
    },
    {
     "cell_type": "code",
     "collapsed": false,
     "input": [
      "from pylab import *\n",
      "figure(2, figsize=(4,4))\n",
      "fracs=[68.31, 28.9, 0.4, 2.4]\n",
      "mycolors=['blue', 'green','yellow', 'red']\n",
      "mylabels=['Plea Bargain:Felony = 68.3%', 'Plea Bargain:Misdemeanor = 28.9%', \n",
      "          'Plea Bargain:Infraction = 0.4%','Defendant fought the case = 2.4%']\n",
      "pie(fracs,labels=mylabels,colors=mycolors)\n",
      "show()"
     ],
     "language": "python",
     "metadata": {},
     "outputs": [
      {
       "metadata": {},
       "output_type": "display_data",
       "png": "[encoded data removed]",
       "text": [
        "<matplotlib.figure.Figure at 0x111d11dd0>"
       ]
      }
     ],
     "prompt_number": 3
    },
    {
     "cell_type": "markdown",
     "metadata": {},
     "source": [
      "This pie chart represents the 707 cases where a hit and run occurred and was sentenced.\n",
      "\n",
      "Plea bargain is an agreement in a criminal case between the prosecutor and defendant whereby the defendant agrees to plead guilty to a particular charge in return for some concession from the prosecutor. The DA usually offers plea bargains that have lower sentences and less incarceration time to expedite the case and lower the risk of losing the case in court."
     ]
    },
    {
     "cell_type": "markdown",
     "metadata": {},
     "source": [
      "### Key find \n",
      "- The DA offers a plea bargain to 97.6% of the defendants. "
     ]
    },
    {
     "cell_type": "markdown",
     "metadata": {},
     "source": [
      "## Cases where highest charge involves injury and/or death\n",
      "Let's look at those cases where the highest charge in the sentence given involves a hit and run with injury or death of victim. This exploration does not include possible cases where DA drops charges or files as other (eg: DUI).\n",
      "\n",
      "We'll answer: \n",
      "1. How many sentenced defendants are given incarceration time?\n",
      "2. Which sentence is given to the defendant?"
     ]
    },
    {
     "cell_type": "code",
     "collapsed": false,
     "input": [
      "index3 = (\"Fail to stop \\n accident w/ \\n injury or death\",\n",
      "         \"Vehicular \\n Manslaughter\",\n",
      "         \"Vehicular \\n Manslaughter \\n Intox\",\n",
      "         \"Murder\") \n",
      "df3 = pd.DataFrame({ \n",
      "'Incarceration': pd.Series(( 152,1 ,10,6), index3),\n",
      "'No Incarceration': pd.Series((178,2,3,1), index3)\n",
      "}) \n",
      "\n",
      "ax3=df3.plot(kind='bar', legend=True, title= \"Sentence includes injury or death of victim\") \n",
      "ax3.set_ylabel('# of cases')\n",
      "ax3.set_xticklabels(df3.index, rotation='horizontal')\n",
      "\n",
      "# Shrink current axis by %\n",
      "box = ax3.get_position()\n",
      "ax3.set_position([box.x0, box.y0, box.width * 1.2, box.height])\n",
      "\n",
      "# Put a legend to the right of the current axis\n",
      "ax3.legend(loc='center left', bbox_to_anchor=(1, 0.5))\n",
      "\n",
      "index4 = (\"Fail to stop accident w/ injury or death\",\n",
      "         \"Vehicular  Manslaughter\",\n",
      "         \"Vehicular  Manslaughter while Intoxicated\",\n",
      "         \"Murder\") \n",
      "table1 = pd.DataFrame({ \n",
      "'Cases w/ Incarceration': pd.Series(( 152,1 ,10,6), index4),\n",
      "'Cases w/ No Incarceration': pd.Series((178,2,3,1), index4)\n",
      "}) "
     ],
     "language": "python",
     "metadata": {},
     "outputs": [
      {
       "metadata": {},
       "output_type": "display_data",
       "png": "[encoded data removed]",
       "text": [
        "<matplotlib.figure.Figure at 0x118567490>"
       ]
      }
     ],
     "prompt_number": 4
    },
    {
     "cell_type": "code",
     "collapsed": false,
     "input": [
      "table1"
     ],
     "language": "python",
     "metadata": {},
     "outputs": [
      {
       "html": [
        "<div style=\"max-height:1000px;max-width:1500px;overflow:auto;\">\n",
        "<table border=\"1\" class=\"dataframe\">\n",
        "  <thead>\n",
        "    <tr style=\"text-align: right;\">\n",
        "      <th></th>\n",
        "      <th>Cases w/ Incarceration</th>\n",
        "      <th>Cases w/ No Incarceration</th>\n",
        "    </tr>\n",
        "  </thead>\n",
        "  <tbody>\n",
        "    <tr>\n",
        "      <th>Fail to stop accident w/ injury or death</th>\n",
        "      <td> 152</td>\n",
        "      <td> 178</td>\n",
        "    </tr>\n",
        "    <tr>\n",
        "      <th>Vehicular  Manslaughter</th>\n",
        "      <td>   1</td>\n",
        "      <td>   2</td>\n",
        "    </tr>\n",
        "    <tr>\n",
        "      <th>Vehicular  Manslaughter while Intoxicated</th>\n",
        "      <td>  10</td>\n",
        "      <td>   3</td>\n",
        "    </tr>\n",
        "    <tr>\n",
        "      <th>Murder</th>\n",
        "      <td>   6</td>\n",
        "      <td>   1</td>\n",
        "    </tr>\n",
        "  </tbody>\n",
        "</table>\n",
        "<p>4 rows \u00d7 2 columns</p>\n",
        "</div>"
       ],
       "metadata": {},
       "output_type": "pyout",
       "prompt_number": 5,
       "text": [
        "                                           Cases w/ Incarceration  \\\n",
        "Fail to stop accident w/ injury or death                      152   \n",
        "Vehicular  Manslaughter                                         1   \n",
        "Vehicular  Manslaughter while Intoxicated                      10   \n",
        "Murder                                                          6   \n",
        "\n",
        "                                           Cases w/ No Incarceration  \n",
        "Fail to stop accident w/ injury or death                         178  \n",
        "Vehicular  Manslaughter                                            2  \n",
        "Vehicular  Manslaughter while Intoxicated                          3  \n",
        "Murder                                                             1  \n",
        "\n",
        "[4 rows x 2 columns]"
       ]
      }
     ],
     "prompt_number": 5
    },
    {
     "cell_type": "markdown",
     "metadata": {},
     "source": [
      "Clarification: no incarceration given does not mean \"not guilty\". Every defendant in this table has been guilty (by plea bargain or by unsuccsefully fighting the case in court). No incarceration means they do not serve jail/prison time."
     ]
    },
    {
     "cell_type": "markdown",
     "metadata": {},
     "source": [
      "### Key Find\n",
      "- 93% of all defendants (303 cases) are sentenced with VC20001: Fail to Stop at Accident with Injury or Death. \n",
      "   - We can see that more than half of them (55%) do not serve incarceration time.\n",
      "   - The average probation time is 40 months.\n",
      "- The number of vehicular manslaughter (PC192), vehicular manslaughter while intoxicated (PC191.5) and murder (PC187) is significantly low. This suggests that the DA does not go for these charges in court. "
     ]
    },
    {
     "cell_type": "markdown",
     "metadata": {},
     "source": [
      "#Avg Incarceration & Probation Time"
     ]
    },
    {
     "cell_type": "markdown",
     "metadata": {},
     "source": [
      "Let's look at the average incarceration and probation time for those defendants that served time."
     ]
    },
    {
     "cell_type": "code",
     "collapsed": false,
     "input": [
      "index2 = (\"Fail to stop\\naccident w/\\ninjury/death\",\n",
      "         \"Vehicular\\nManslghtr\",\n",
      "         \"Vehicular\\nManslghtr\\nDrunk\",\n",
      "         \"Murder\") \n",
      "df2 = pd.DataFrame({ \n",
      "'incarceration': pd.Series((10.9,52,138.1,198), index2),\n",
      "'probation': pd.Series((39, 36.0,0,0), index2)\n",
      "}) \n",
      "\n",
      "ax2=df2.plot(kind='bar',legend=True, stacked=True, title= \"Length of Sentence by Highest Charge\\n\") \n",
      "ax2.set_ylabel('Avg Time (months)')\n",
      "ax2.set_xticklabels(df2.index, rotation='horizontal')\n",
      "\n",
      "\n",
      "# Shrink current axis by %\n",
      "box = ax2.get_position()\n",
      "ax2.set_position([box.x0, box.y0, box.width * 1.2, box.height])\n",
      "\n",
      "# Put a legend to the right of the current axis\n",
      "ax2.legend(loc='center left', bbox_to_anchor=(1, 0.5))\n",
      "\n",
      "index1 = (\"Fail to stop accident w/ injury or death\",\n",
      "         \"Vehicular Manslaughetr\",\n",
      "         \"Vehicular Manslaughetr while Intoxicates\",\n",
      "         \"Murder\") \n",
      "table2 = pd.DataFrame({ \n",
      "'Lenght of incarceration (months)': pd.Series((10.9,52,138.1,198), index1),\n",
      "'Lenght of probation (months)': pd.Series((39, 36.0,0,0), index1)\n",
      "}) "
     ],
     "language": "python",
     "metadata": {},
     "outputs": [
      {
       "metadata": {},
       "output_type": "display_data",
       "png": "[encoded data removed]",
       "text": [
        "<matplotlib.figure.Figure at 0x118549190>"
       ]
      }
     ],
     "prompt_number": 6
    },
    {
     "cell_type": "code",
     "collapsed": false,
     "input": [
      "table2"
     ],
     "language": "python",
     "metadata": {},
     "outputs": [
      {
       "html": [
        "<div style=\"max-height:1000px;max-width:1500px;overflow:auto;\">\n",
        "<table border=\"1\" class=\"dataframe\">\n",
        "  <thead>\n",
        "    <tr style=\"text-align: right;\">\n",
        "      <th></th>\n",
        "      <th>Lenght of incarceration (months)</th>\n",
        "      <th>Lenght of probation (months)</th>\n",
        "    </tr>\n",
        "  </thead>\n",
        "  <tbody>\n",
        "    <tr>\n",
        "      <th>Fail to stop accident w/ injury or death</th>\n",
        "      <td>  10.9</td>\n",
        "      <td> 39</td>\n",
        "    </tr>\n",
        "    <tr>\n",
        "      <th>Vehicular Manslaughetr</th>\n",
        "      <td>  52.0</td>\n",
        "      <td> 36</td>\n",
        "    </tr>\n",
        "    <tr>\n",
        "      <th>Vehicular Manslaughetr while Intoxicates</th>\n",
        "      <td> 138.1</td>\n",
        "      <td>  0</td>\n",
        "    </tr>\n",
        "    <tr>\n",
        "      <th>Murder</th>\n",
        "      <td> 198.0</td>\n",
        "      <td>  0</td>\n",
        "    </tr>\n",
        "  </tbody>\n",
        "</table>\n",
        "<p>4 rows \u00d7 2 columns</p>\n",
        "</div>"
       ],
       "metadata": {},
       "output_type": "pyout",
       "prompt_number": 7,
       "text": [
        "                                          Lenght of incarceration (months)  \\\n",
        "Fail to stop accident w/ injury or death                              10.9   \n",
        "Vehicular Manslaughetr                                                52.0   \n",
        "Vehicular Manslaughetr while Intoxicates                             138.1   \n",
        "Murder                                                               198.0   \n",
        "\n",
        "                                          Lenght of probation (months)  \n",
        "Fail to stop accident w/ injury or death                            39  \n",
        "Vehicular Manslaughetr                                              36  \n",
        "Vehicular Manslaughetr while Intoxicates                             0  \n",
        "Murder                                                               0  \n",
        "\n",
        "[4 rows x 2 columns]"
       ]
      }
     ],
     "prompt_number": 7
    },
    {
     "cell_type": "markdown",
     "metadata": {},
     "source": [
      "#Conclusion\n",
      "\n",
      "According to the highest charge in our dataset, we know that in cases of hit & run with injury or death:\n",
      "\n",
      "- 9 out of 10 defendants get a DA offer to VC20001 \"Fail to stop accident w/ injury or death\".\n",
      "    - 45% of these defendants have an incarceration of less than a year. \n",
      "    - The other 55% serve no incaceration time. \n",
      "    - The average probation time is 40 months.\n",
      "\n",
      "- If [in the last five years, 57 bikers and pedestrians have been killed in San Diego County by drivers who left the scene without stopping to help](http://voiceofsandiego.org/2014/06/17/where-san-diegos-fatal-hit-and-runs-happen/), and we know that only 16 have been sentenced as Vehicular Manslaughter, then the remaining 41 cases are going unsolved or have been offered a plea bargain by the DA.\n",
      "\n",
      "- Out of the 16 cases of sentenced vehicular manslaughter, 30% will not serve incarceration time.\n"
     ]
    },
    {
     "cell_type": "markdown",
     "metadata": {},
     "source": [
      "##Data Analysts\n",
      "\n",
      "[Hila's Notebook](http://nbviewer.ipython.org/github/hilahashemi/HitandRun/blob/master/Hit%20%26%20Run.ipynb)\n",
      "\n",
      "[Gonzalo's Notebook](http://nbviewer.ipython.org/github/holagonzalo/SDRDL-Internship-Notebooks/blob/master/hnr.ipynb)"
     ]
    },
    {
     "cell_type": "code",
     "collapsed": false,
     "input": [],
     "language": "python",
     "metadata": {},
     "outputs": []
    }
   ],
   "metadata": {}
  }
 ]
}